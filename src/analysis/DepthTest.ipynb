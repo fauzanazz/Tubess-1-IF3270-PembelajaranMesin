{
 "cells": [
  {
   "cell_type": "markdown",
   "id": "85390dbf",
   "metadata": {},
   "source": [
    "# Pengujian Terhadap Depth"
   ]
  },
  {
   "cell_type": "code",
   "execution_count": 1,
   "id": "d57e1673",
   "metadata": {},
   "outputs": [],
   "source": [
    "%load_ext autoreload\n",
    "%autoreload 2"
   ]
  },
  {
   "cell_type": "code",
   "execution_count": 1,
   "id": "638c18a9",
   "metadata": {},
   "outputs": [
    {
     "name": "stderr",
     "output_type": "stream",
     "text": [
      "c:\\Users\\DELL\\AppData\\Local\\Programs\\Python\\Python313\\Lib\\site-packages\\tqdm\\auto.py:21: TqdmWarning: IProgress not found. Please update jupyter and ipywidgets. See https://ipywidgets.readthedocs.io/en/stable/user_install.html\n",
      "  from .autonotebook import tqdm as notebook_tqdm\n"
     ]
    }
   ],
   "source": [
    "import sys\n",
    "sys.dont_write_bytecode = True\n",
    "sys.path.append('..')\n",
    "\n",
    "# Import libraries\n",
    "import numpy as np\n",
    "from sklearn.datasets import fetch_openml\n",
    "from sklearn.model_selection import train_test_split\n",
    "\n",
    "# Import custom modules\n",
    "from ArtificialNeuralNetwork import ArtificialNeuralNetwork\n",
    "from Layer import Layer, OutputLayer, InputLayer\n",
    "from Function import ActivationFunction, LossFunction\n",
    "from enums import InitializerType, RegularizationType\n",
    "import matplotlib.pyplot as plt\n",
    "import pandas as pd"
   ]
  },
  {
   "cell_type": "code",
   "execution_count": 3,
   "id": "39fceaef",
   "metadata": {},
   "outputs": [],
   "source": [
    "# Load MNIST dataset using fetch_openml\n",
    "X, y = fetch_openml('mnist_784', version=1, return_X_y=True, as_frame=False)\n",
    "X = X / 255.0\n",
    "y = y.astype(int)\n",
    "\n",
    "\n",
    "# Split into train and test sets\n",
    "X_train, X_test, y_train, y_test = train_test_split(\n",
    "    X, y, test_size=0.2, random_state=42,\n",
    ")"
   ]
  },
  {
   "cell_type": "markdown",
   "id": "21cdcde6",
   "metadata": {},
   "source": [
    "## 1. Depth = 1 | Width = 20"
   ]
  },
  {
   "cell_type": "code",
   "execution_count": 4,
   "id": "ccd82f37",
   "metadata": {},
   "outputs": [],
   "source": [
    "input_size = 784\n",
    "hidden_layers = 1\n",
    "output_size = 10\n",
    "param_1 = 0\n",
    "param_2 = 0.5\n",
    "batch_size = 64"
   ]
  },
  {
   "cell_type": "code",
   "execution_count": 5,
   "id": "ab447165",
   "metadata": {},
   "outputs": [],
   "source": [
    "ann1 = ArtificialNeuralNetwork(\n",
    "        123,\n",
    "        InputLayer(input_size=input_size),\n",
    "        Layer(\n",
    "            weight_init=InitializerType.HE,\n",
    "            bias_init=InitializerType.ZERO,\n",
    "            input_size=input_size,\n",
    "            num_neurons=20,\n",
    "            param_1=param_1,\n",
    "            param_2=param_2,\n",
    "            activation=ActivationFunction.prelu,\n",
    "            alpha=0.2,\n",
    "            layer_name=f\"Hidden Layer 0\",\n",
    "        ),\n",
    "        *[Layer(\n",
    "            weight_init=InitializerType.HE,\n",
    "            bias_init=InitializerType.ZERO,\n",
    "            input_size=20,\n",
    "            num_neurons=20,\n",
    "            param_1=param_1,\n",
    "            param_2=param_2,\n",
    "            activation=ActivationFunction.prelu,\n",
    "            alpha=0.2,\n",
    "            layer_name=f\"Hidden Layer {_}\",\n",
    "        ) for _ in range(hidden_layers - 1)],\n",
    "        OutputLayer(\n",
    "            weight_init=InitializerType.HE,\n",
    "            bias_init=InitializerType.ZERO,\n",
    "            input_size=20,\n",
    "            num_neurons=output_size,\n",
    "            param_1=param_1,\n",
    "            param_2=param_2,\n",
    "            activation=ActivationFunction.softmax,\n",
    "            loss_funct=LossFunction.categorical_cross_entropy,\n",
    "            layer_name=\"Output Layer\"\n",
    "        )\n",
    "    )"
   ]
  },
  {
   "cell_type": "code",
   "execution_count": 6,
   "id": "9b983833",
   "metadata": {},
   "outputs": [
    {
     "name": "stderr",
     "output_type": "stream",
     "text": [
      "Training: 100%|██████████| 20/20 [00:32<00:00,  1.63s/it, Loss: 1.8973, Val Loss: 1.9114]"
     ]
    },
    {
     "name": "stdout",
     "output_type": "stream",
     "text": [
      "Total training time: 31.69s\n"
     ]
    },
    {
     "name": "stderr",
     "output_type": "stream",
     "text": [
      "\n"
     ]
    }
   ],
   "source": [
    "loss1 = ann1.train(\n",
    "        x=X_train,\n",
    "        y=y_train,\n",
    "        loss_function=LossFunction.categorical_cross_entropy,\n",
    "        lr=0.01,\n",
    "        epochs=20,\n",
    "        batch_size=batch_size,\n",
    "        verbose=True,\n",
    "        validation_data=(X_test, y_test),\n",
    "    )"
   ]
  },
  {
   "cell_type": "code",
   "execution_count": 7,
   "id": "148ad283",
   "metadata": {},
   "outputs": [
    {
     "data": {
      "image/png": "[encoded data removed]",
      "text/plain": [
       "<Figure size 640x480 with 1 Axes>"
      ]
     },
     "metadata": {},
     "output_type": "display_data"
    }
   ],
   "source": [
    "epoch_losses1, val_losses1 = loss1\n",
    "\n",
    "plt.plot(epoch_losses1, label='Train Loss')\n",
    "plt.plot(val_losses1, label='Validation Loss')\n",
    "plt.xlabel('Epochs')\n",
    "plt.ylabel('Loss')\n",
    "plt.title('Training and Validation Loss')\n",
    "plt.legend()\n",
    "plt.show()"
   ]
  },
  {
   "cell_type": "code",
   "execution_count": 18,
   "id": "6d80e739",
   "metadata": {},
   "outputs": [
    {
     "name": "stdout",
     "output_type": "stream",
     "text": [
      "F1 Score: 0.9314411872953958\n"
     ]
    }
   ],
   "source": [
    "from sklearn.metrics import f1_score\n",
    "\n",
    "y_pred1 = ann1.predict(X_test)\n",
    "print(f\"F1 Score: {f1_score(y_test, y_pred1, average='macro')}\")"
   ]
  },
  {
   "cell_type": "markdown",
   "id": "b9d23cff",
   "metadata": {},
   "source": [
    "## 2. Depth = 3 | Width = 20"
   ]
  },
  {
   "cell_type": "code",
   "execution_count": 8,
   "id": "7b750d84",
   "metadata": {},
   "outputs": [],
   "source": [
    "input_size = 784\n",
    "hidden_layers = 3\n",
    "output_size = 10\n",
    "param_1 = 0\n",
    "param_2 = 0.5\n",
    "batch_size = 64"
   ]
  },
  {
   "cell_type": "code",
   "execution_count": 9,
   "id": "40d1c6f8",
   "metadata": {},
   "outputs": [],
   "source": [
    "ann2 = ArtificialNeuralNetwork(\n",
    "        123,\n",
    "        InputLayer(input_size=input_size),\n",
    "        Layer(\n",
    "            weight_init=InitializerType.HE,\n",
    "            bias_init=InitializerType.ZERO,\n",
    "            input_size=input_size,\n",
    "            num_neurons=20,\n",
    "            param_1=param_1,\n",
    "            param_2=param_2,\n",
    "            activation=ActivationFunction.prelu,\n",
    "            alpha=0.2,\n",
    "            layer_name=f\"Hidden Layer 0\",\n",
    "        ),\n",
    "        *[Layer(\n",
    "            weight_init=InitializerType.HE,\n",
    "            bias_init=InitializerType.ZERO,\n",
    "            input_size=20,\n",
    "            num_neurons=20,\n",
    "            param_1=param_1,\n",
    "            param_2=param_2,\n",
    "            activation=ActivationFunction.prelu,\n",
    "            alpha=0.2,\n",
    "            layer_name=f\"Hidden Layer {_}\",\n",
    "        ) for _ in range(hidden_layers - 1)],\n",
    "        OutputLayer(\n",
    "            weight_init=InitializerType.HE,\n",
    "            bias_init=InitializerType.ZERO,\n",
    "            input_size=20,\n",
    "            num_neurons=output_size,\n",
    "            param_1=param_1,\n",
    "            param_2=param_2,\n",
    "            activation=ActivationFunction.softmax,\n",
    "            loss_funct=LossFunction.categorical_cross_entropy,\n",
    "            layer_name=\"Output Layer\"\n",
    "        )\n",
    "    )"
   ]
  },
  {
   "cell_type": "code",
   "execution_count": 10,
   "id": "d826e032",
   "metadata": {},
   "outputs": [
    {
     "name": "stderr",
     "output_type": "stream",
     "text": [
      "Training: 100%|██████████| 20/20 [00:41<00:00,  2.10s/it, Loss: 1.1190, Val Loss: 1.2485]"
     ]
    },
    {
     "name": "stdout",
     "output_type": "stream",
     "text": [
      "Total training time: 40.57s\n"
     ]
    },
    {
     "name": "stderr",
     "output_type": "stream",
     "text": [
      "\n"
     ]
    }
   ],
   "source": [
    "loss2 = ann2.train(\n",
    "        x=X_train,\n",
    "        y=y_train,\n",
    "        loss_function=LossFunction.categorical_cross_entropy,\n",
    "        lr=0.01,\n",
    "        epochs=20,\n",
    "        batch_size=batch_size,\n",
    "        verbose=True,\n",
    "        validation_data=(X_test, y_test),\n",
    "    )"
   ]
  },
  {
   "cell_type": "code",
   "execution_count": 11,
   "id": "3fc3d603",
   "metadata": {},
   "outputs": [
    {
     "data": {
      "image/png": "[encoded data removed]",
      "text/plain": [
       "<Figure size 640x480 with 1 Axes>"
      ]
     },
     "metadata": {},
     "output_type": "display_data"
    }
   ],
   "source": [
    "epoch_losses2, val_losses2 = loss2\n",
    "\n",
    "plt.plot(epoch_losses2, label='Train Loss')\n",
    "plt.plot(val_losses2, label='Validation Loss')\n",
    "plt.xlabel('Epochs')\n",
    "plt.ylabel('Loss')\n",
    "plt.title('Training and Validation Loss')\n",
    "plt.legend()\n",
    "plt.show()"
   ]
  },
  {
   "cell_type": "code",
   "execution_count": 17,
   "id": "a9a21971",
   "metadata": {},
   "outputs": [
    {
     "name": "stdout",
     "output_type": "stream",
     "text": [
      "F1 Score: 0.9496421025330465\n"
     ]
    }
   ],
   "source": [
    "from sklearn.metrics import f1_score\n",
    "\n",
    "y_pred2 = ann2.predict(X_test)\n",
    "print(f\"F1 Score: {f1_score(y_test, y_pred2, average='macro')}\")"
   ]
  },
  {
   "cell_type": "markdown",
   "id": "e0a77581",
   "metadata": {},
   "source": [
    "## 3. Depth = 5 | Width = 20"
   ]
  },
  {
   "cell_type": "code",
   "execution_count": 12,
   "id": "134a1788",
   "metadata": {},
   "outputs": [],
   "source": [
    "input_size = 784\n",
    "hidden_layers = 5\n",
    "output_size = 10\n",
    "param_1 = 0\n",
    "param_2 = 0.5\n",
    "batch_size = 64"
   ]
  },
  {
   "cell_type": "code",
   "execution_count": 13,
   "id": "1c10e6d2",
   "metadata": {},
   "outputs": [],
   "source": [
    "ann3 = ArtificialNeuralNetwork(\n",
    "        123,\n",
    "        InputLayer(input_size=input_size),\n",
    "        Layer(\n",
    "            weight_init=InitializerType.HE,\n",
    "            bias_init=InitializerType.ZERO,\n",
    "            input_size=input_size,\n",
    "            num_neurons=20,\n",
    "            param_1=param_1,\n",
    "            param_2=param_2,\n",
    "            activation=ActivationFunction.prelu,\n",
    "            alpha=0.2,\n",
    "            layer_name=f\"Hidden Layer 0\",\n",
    "        ),\n",
    "        *[Layer(\n",
    "            weight_init=InitializerType.HE,\n",
    "            bias_init=InitializerType.ZERO,\n",
    "            input_size=20,\n",
    "            num_neurons=20,\n",
    "            param_1=param_1,\n",
    "            param_2=param_2,\n",
    "            activation=ActivationFunction.prelu,\n",
    "            alpha=0.2,\n",
    "            layer_name=f\"Hidden Layer {_}\",\n",
    "        ) for _ in range(hidden_layers - 1)],\n",
    "        OutputLayer(\n",
    "            weight_init=InitializerType.HE,\n",
    "            bias_init=InitializerType.ZERO,\n",
    "            input_size=20,\n",
    "            num_neurons=output_size,\n",
    "            param_1=param_1,\n",
    "            param_2=param_2,\n",
    "            activation=ActivationFunction.softmax,\n",
    "            loss_funct=LossFunction.categorical_cross_entropy,\n",
    "            layer_name=\"Output Layer\"\n",
    "        )\n",
    "    )"
   ]
  },
  {
   "cell_type": "code",
   "execution_count": 14,
   "id": "b891d8ae",
   "metadata": {},
   "outputs": [
    {
     "name": "stderr",
     "output_type": "stream",
     "text": [
      "Training: 100%|██████████| 20/20 [00:55<00:00,  2.76s/it, Loss: 0.8806, Val Loss: 1.0202]"
     ]
    },
    {
     "name": "stdout",
     "output_type": "stream",
     "text": [
      "Total training time: 53.35s\n"
     ]
    },
    {
     "name": "stderr",
     "output_type": "stream",
     "text": [
      "\n"
     ]
    }
   ],
   "source": [
    "loss3 = ann3.train(\n",
    "        x=X_train,\n",
    "        y=y_train,\n",
    "        loss_function=LossFunction.categorical_cross_entropy,\n",
    "        lr=0.01,\n",
    "        epochs=20,\n",
    "        batch_size=batch_size,\n",
    "        verbose=True,\n",
    "        validation_data=(X_test, y_test),\n",
    "    )"
   ]
  },
  {
   "cell_type": "code",
   "execution_count": 15,
   "id": "dde20fca",
   "metadata": {},
   "outputs": [
    {
     "data": {
      "image/png": "[encoded data removed]",
      "text/plain": [
       "<Figure size 640x480 with 1 Axes>"
      ]
     },
     "metadata": {},
     "output_type": "display_data"
    }
   ],
   "source": [
    "epoch_losses3, val_losses3 = loss3\n",
    "\n",
    "plt.plot(epoch_losses3, label='Train Loss')\n",
    "plt.plot(val_losses3, label='Validation Loss')\n",
    "plt.xlabel('Epochs')\n",
    "plt.ylabel('Loss')\n",
    "plt.title('Training and Validation Loss')\n",
    "plt.legend()\n",
    "plt.show()"
   ]
  },
  {
   "cell_type": "code",
   "execution_count": 16,
   "id": "d9d494f9",
   "metadata": {},
   "outputs": [
    {
     "name": "stdout",
     "output_type": "stream",
     "text": [
      "F1 Score: 0.9537950284967625\n"
     ]
    }
   ],
   "source": [
    "from sklearn.metrics import f1_score\n",
    "\n",
    "y_pred3 = ann3.predict(X_test)\n",
    "print(f\"F1 Score: {f1_score(y_test, y_pred3, average='macro')}\")"
   ]
  }
 ],
 "metadata": {
  "kernelspec": {
   "display_name": "Python 3",
   "language": "python",
   "name": "python3"
  },
  "language_info": {
   "codemirror_mode": {
    "name": "ipython",
    "version": 3
   },
   "file_extension": ".py",
   "mimetype": "text/x-python",
   "name": "python",
   "nbconvert_exporter": "python",
   "pygments_lexer": "ipython3",
   "version": "3.13.2"
  }
 },
 "nbformat": 4,
 "nbformat_minor": 5
}
