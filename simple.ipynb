{
 "cells": [
  {
   "metadata": {},
   "cell_type": "markdown",
   "source": "# Scratch Artificial Neural Network",
   "id": "8a77807f92f26ee"
  },
  {
   "metadata": {
    "ExecuteTime": {
     "end_time": "2025-03-14T13:07:58.159167Z",
     "start_time": "2025-03-14T13:07:58.079923Z"
    }
   },
   "cell_type": "code",
   "source": [
    "from torch.utils.data import DataLoader\n",
    "%load_ext autoreload\n",
    "%autoreload 2"
   ],
   "id": "b32c4145c30d89a5",
   "outputs": [
    {
     "name": "stdout",
     "output_type": "stream",
     "text": [
      "The autoreload extension is already loaded. To reload it, use:\n",
      "  %reload_ext autoreload\n"
     ]
    }
   ],
   "execution_count": 9
  },
  {
   "metadata": {
    "ExecuteTime": {
     "end_time": "2025-03-14T13:07:58.185550Z",
     "start_time": "2025-03-14T13:07:58.164270Z"
    }
   },
   "cell_type": "code",
   "source": [
    "import sys\n",
    "sys.dont_write_bytecode = True\n",
    "\n",
    "# Import libraries\n",
    "import torch\n",
    "import numpy as np\n",
    "import pandas as pd\n",
    "from torch.utils.data import DataLoader\n",
    "import torchvision\n",
    "import torchvision.transforms as transforms\n",
    "\n",
    "\n",
    "from ArtificialNeuralNetwork import ArtificialNeuralNetwork\n",
    "from Layer import Layer, OutputLayer\n",
    "from Function import ActivationFunction, LossFunction\n",
    "from enums import InitializerType"
   ],
   "id": "7df9140457caed5e",
   "outputs": [],
   "execution_count": 10
  },
  {
   "metadata": {
    "ExecuteTime": {
     "end_time": "2025-03-14T13:07:58.214667Z",
     "start_time": "2025-03-14T13:07:58.195959Z"
    }
   },
   "cell_type": "code",
   "source": [
    "# Disable __grad based on assistant direction\n",
    "torch.set_grad_enabled(False)"
   ],
   "id": "5ccd2101c23e2da9",
   "outputs": [
    {
     "data": {
      "text/plain": [
       "<torch.autograd.grad_mode.set_grad_enabled at 0x1774c26f0>"
      ]
     },
     "execution_count": 11,
     "metadata": {},
     "output_type": "execute_result"
    }
   ],
   "execution_count": 11
  },
  {
   "metadata": {},
   "cell_type": "markdown",
   "source": "# Pipeline for testing MNIST dataset",
   "id": "6c34fd47c03a7a52"
  },
  {
   "metadata": {
    "ExecuteTime": {
     "end_time": "2025-03-14T13:07:58.242880Z",
     "start_time": "2025-03-14T13:07:58.223217Z"
    }
   },
   "cell_type": "code",
   "source": [
    "input_size = 784\n",
    "hidden_layers = 2\n",
    "hidden_size = 128\n",
    "output_size = 10\n",
    "learning_rate = 0.001\n",
    "param_1 = 0\n",
    "param_2 = 0"
   ],
   "id": "852d5247313debdf",
   "outputs": [],
   "execution_count": 12
  },
  {
   "metadata": {
    "ExecuteTime": {
     "end_time": "2025-03-14T13:07:59.271506Z",
     "start_time": "2025-03-14T13:07:58.249458Z"
    }
   },
   "cell_type": "code",
   "source": [
    "# Import Dataset\n",
    "train = pd.read_csv(\"data/train.csv\")"
   ],
   "id": "ed5d4ed564e62c86",
   "outputs": [],
   "execution_count": 13
  },
  {
   "metadata": {
    "ExecuteTime": {
     "end_time": "2025-03-14T13:07:59.334895Z",
     "start_time": "2025-03-14T13:07:59.280398Z"
    }
   },
   "cell_type": "code",
   "source": [
    " # Define a simple transformation.\n",
    "transform = transforms.Compose([transforms.ToTensor()])\n",
    "\n",
    "# Load MNIST training and test datasets.\n",
    "train_dataset = torchvision.datasets.MNIST(root=\"./data\", train=True, download=True, transform=transform)\n",
    "test_dataset = torchvision.datasets.MNIST(root=\"./data\", train=False, download=True, transform=transform)\n",
    "\n",
    "# Create data loaders.\n",
    "train_loader = DataLoader(train_dataset, batch_size=64, shuffle=True)\n",
    "test_loader = DataLoader(test_dataset, batch_size=64, shuffle=False)\n"
   ],
   "id": "f1f0258415e2b31e",
   "outputs": [],
   "execution_count": 14
  },
  {
   "metadata": {
    "ExecuteTime": {
     "end_time": "2025-03-14T13:07:59.374913Z",
     "start_time": "2025-03-14T13:07:59.347949Z"
    }
   },
   "cell_type": "code",
   "source": [
    "ann = ArtificialNeuralNetwork(\n",
    "    123,\n",
    "    Layer(\n",
    "        weight_init=InitializerType.RANDOM_DIST_UNIFORM,\n",
    "        bias_init=InitializerType.ZERO,\n",
    "        input_size=input_size,\n",
    "        num_neurons=hidden_size,\n",
    "        param_1=param_1,\n",
    "        param_2=param_2,\n",
    "        activation=ActivationFunction.relu,\n",
    "        layer_name=f\"Hidden Layer 0\"\n",
    "    ),\n",
    "    *[Layer(\n",
    "        weight_init=InitializerType.RANDOM_DIST_UNIFORM,\n",
    "        bias_init=InitializerType.ZERO,\n",
    "        input_size=hidden_size,\n",
    "        num_neurons=hidden_size,\n",
    "        param_1=param_1,\n",
    "        param_2=param_2,\n",
    "        activation=ActivationFunction.relu,\n",
    "        layer_name=f\"Hidden Layer {i + 1}\"\n",
    "    ) for i in range(hidden_layers)],\n",
    "    OutputLayer(\n",
    "        weight_init=InitializerType.RANDOM_DIST_UNIFORM,\n",
    "        bias_init=InitializerType.ZERO,\n",
    "        input_size=hidden_size,\n",
    "        num_neurons=output_size,\n",
    "        param_1=param_1,\n",
    "        param_2=param_2,\n",
    "        activation=ActivationFunction.relu,\n",
    "        layer_name=\"Output Layer\"\n",
    "    )\n",
    ")"
   ],
   "id": "fa6ea97943bbfc96",
   "outputs": [],
   "execution_count": 15
  },
  {
   "metadata": {
    "ExecuteTime": {
     "end_time": "2025-03-14T14:13:39.289047Z",
     "start_time": "2025-03-14T14:10:28.173923Z"
    }
   },
   "cell_type": "code",
   "source": [
    "ann.train(\n",
    "    train_loader,\n",
    "    lr=0.01,\n",
    "    epochs=50,\n",
    "    loss_function=LossFunction.categorical_cross_entropy\n",
    ")"
   ],
   "id": "19e428bf85e6d3bc",
   "outputs": [
    {
     "name": "stdout",
     "output_type": "stream",
     "text": [
      "Epoch 1: Loss = 2.7714\n",
      "Epoch 2: Loss = 2.7637\n",
      "Epoch 3: Loss = 2.7473\n",
      "Epoch 4: Loss = 2.7598\n",
      "Epoch 5: Loss = 2.7028\n",
      "Epoch 6: Loss = 2.7022\n",
      "Epoch 7: Loss = 2.6988\n",
      "Epoch 8: Loss = 2.6759\n",
      "Epoch 9: Loss = 2.6520\n",
      "Epoch 10: Loss = 2.6912\n",
      "Epoch 11: Loss = 2.6543\n",
      "Epoch 12: Loss = 2.6274\n",
      "Epoch 13: Loss = 2.6136\n",
      "Epoch 14: Loss = 2.5971\n",
      "Epoch 15: Loss = 2.6342\n",
      "Epoch 16: Loss = 2.5774\n",
      "Epoch 17: Loss = 2.5779\n",
      "Epoch 18: Loss = 2.5920\n",
      "Epoch 19: Loss = 2.5377\n",
      "Epoch 20: Loss = 2.5419\n",
      "Epoch 21: Loss = 2.5407\n",
      "Epoch 22: Loss = 2.5389\n",
      "Epoch 23: Loss = 2.5007\n",
      "Epoch 24: Loss = 2.4994\n",
      "Epoch 25: Loss = 2.4817\n",
      "Epoch 26: Loss = 2.4972\n",
      "Epoch 27: Loss = 2.4749\n",
      "Epoch 28: Loss = 2.4642\n",
      "Epoch 29: Loss = 2.4578\n",
      "Epoch 30: Loss = 2.4518\n",
      "Epoch 31: Loss = 2.4556\n",
      "Epoch 32: Loss = 2.4370\n",
      "Epoch 33: Loss = 2.4118\n",
      "Epoch 34: Loss = 2.4027\n",
      "Epoch 35: Loss = 2.3958\n",
      "Epoch 36: Loss = 2.3995\n",
      "Epoch 37: Loss = 2.3648\n",
      "Epoch 38: Loss = 2.3522\n",
      "Epoch 39: Loss = 2.3431\n",
      "Epoch 40: Loss = 2.3732\n",
      "Epoch 41: Loss = 2.3485\n",
      "Epoch 42: Loss = 2.3492\n",
      "Epoch 43: Loss = 2.3493\n",
      "Epoch 44: Loss = 2.3164\n",
      "Epoch 45: Loss = 2.3269\n",
      "Epoch 46: Loss = 2.3239\n",
      "Epoch 47: Loss = 2.3223\n",
      "Epoch 48: Loss = 2.3213\n",
      "Epoch 49: Loss = 2.2769\n",
      "Epoch 50: Loss = 2.2985\n"
     ]
    }
   ],
   "execution_count": 25
  },
  {
   "metadata": {
    "ExecuteTime": {
     "end_time": "2025-03-14T14:10:24.650882Z",
     "start_time": "2025-03-14T14:10:24.198941Z"
    }
   },
   "cell_type": "code",
   "source": "ann.test(test_loader)",
   "id": "9ebd446e0ee3620b",
   "outputs": [
    {
     "name": "stdout",
     "output_type": "stream",
     "text": [
      "Test Accuracy: 97.72%\n"
     ]
    }
   ],
   "execution_count": 24
  }
 ],
 "metadata": {
  "kernelspec": {
   "display_name": "Python 3",
   "language": "python",
   "name": "python3"
  },
  "language_info": {
   "codemirror_mode": {
    "name": "ipython",
    "version": 2
   },
   "file_extension": ".py",
   "mimetype": "text/x-python",
   "name": "python",
   "nbconvert_exporter": "python",
   "pygments_lexer": "ipython2",
   "version": "2.7.6"
  }
 },
 "nbformat": 4,
 "nbformat_minor": 5
}
