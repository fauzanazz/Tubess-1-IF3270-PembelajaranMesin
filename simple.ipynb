{
 "cells": [
  {
   "metadata": {},
   "cell_type": "markdown",
   "source": "# Scratch Artificial Neural Network",
   "id": "8a77807f92f26ee"
  },
  {
   "metadata": {
    "ExecuteTime": {
     "end_time": "2025-03-11T03:11:11.091018Z",
     "start_time": "2025-03-11T03:11:10.329104Z"
    }
   },
   "cell_type": "code",
   "source": [
    "from Layer import InputLayer\n",
    "%load_ext autoreload\n",
    "%autoreload 2"
   ],
   "id": "b32c4145c30d89a5",
   "outputs": [],
   "execution_count": 1
  },
  {
   "metadata": {
    "ExecuteTime": {
     "end_time": "2025-03-11T03:11:11.288590Z",
     "start_time": "2025-03-11T03:11:11.094782Z"
    }
   },
   "cell_type": "code",
   "source": [
    "import sys\n",
    "sys.dont_write_bytecode = True\n",
    "\n",
    "# Import libraries\n",
    "import torch\n",
    "import numpy as np\n",
    "import pandas as pd\n",
    "\n",
    "\n",
    "from ArtificialNeuralNetwork import ArtificialNeuralNetwork\n",
    "from Layer import Layer, InputLayer, OutputLayer\n",
    "from Function import ActivationFunction, LossFunction\n",
    "from enums import InitializerType"
   ],
   "id": "7df9140457caed5e",
   "outputs": [],
   "execution_count": 2
  },
  {
   "metadata": {
    "ExecuteTime": {
     "end_time": "2025-03-11T03:11:11.361915Z",
     "start_time": "2025-03-11T03:11:11.348450Z"
    }
   },
   "cell_type": "code",
   "source": [
    "# Disable __grad based on assistant direction\n",
    "torch.set_grad_enabled(False)"
   ],
   "id": "5ccd2101c23e2da9",
   "outputs": [
    {
     "data": {
      "text/plain": [
       "<torch.autograd.grad_mode.set_grad_enabled at 0x127d417c0>"
      ]
     },
     "execution_count": 3,
     "metadata": {},
     "output_type": "execute_result"
    }
   ],
   "execution_count": 3
  },
  {
   "metadata": {},
   "cell_type": "markdown",
   "source": "# Pipeline for testing MNIST dataset",
   "id": "6c34fd47c03a7a52"
  },
  {
   "metadata": {
    "ExecuteTime": {
     "end_time": "2025-03-11T03:11:11.381053Z",
     "start_time": "2025-03-11T03:11:11.367802Z"
    }
   },
   "cell_type": "code",
   "source": [
    "# Const variables\n",
    "input_size = 784\n",
    "hidden_layers = 1\n",
    "hidden_size = 2\n",
    "output_size = 10\n",
    "learning_rate = 0.1\n",
    "param_1 = 0\n",
    "param_2 = 0.5"
   ],
   "id": "852d5247313debdf",
   "outputs": [],
   "execution_count": 4
  },
  {
   "metadata": {
    "ExecuteTime": {
     "end_time": "2025-03-11T03:11:12.191926Z",
     "start_time": "2025-03-11T03:11:11.386568Z"
    }
   },
   "cell_type": "code",
   "source": [
    "# Import Dataset\n",
    "train = pd.read_csv(\"data/train.csv\")"
   ],
   "id": "ed5d4ed564e62c86",
   "outputs": [],
   "execution_count": 5
  },
  {
   "metadata": {
    "ExecuteTime": {
     "end_time": "2025-03-11T03:11:12.526558Z",
     "start_time": "2025-03-11T03:11:12.206274Z"
    }
   },
   "cell_type": "code",
   "source": [
    "# Data Preprocessing\n",
    "data = np.array(train)\n",
    "m, n = data.shape\n",
    "np.random.shuffle(data)\n",
    "\n",
    "data_dev = data[0:1000].T\n",
    "Y_dev = data_dev[0]\n",
    "X_dev = data_dev[1:n]\n",
    "X_dev = X_dev / 255.\n",
    "\n",
    "data_train = data[1000:m].T\n",
    "Y_train = data_train[0]\n",
    "X_train = data_train[1:n]\n",
    "X_train = X_train / 255.\n",
    "_,m_train = X_train.shape\n",
    "X_train = X_train.T\n",
    "\n",
    "X_dev = X_dev.T"
   ],
   "id": "f1f0258415e2b31e",
   "outputs": [],
   "execution_count": 6
  },
  {
   "metadata": {
    "ExecuteTime": {
     "end_time": "2025-03-11T03:11:12.546101Z",
     "start_time": "2025-03-11T03:11:12.530897Z"
    }
   },
   "cell_type": "code",
   "source": [
    "# Initialize Artificial Neural Network\n",
    "ann = ArtificialNeuralNetwork(\n",
    "    123,\n",
    "    LossFunction.mean_squared_error,\n",
    "    InputLayer(\n",
    "        input_size=input_size,\n",
    "        layer_name=\"Input\"\n",
    "    ),\n",
    "    *[Layer(\n",
    "        weight_init=InitializerType.RANDOM_DIST_NORMAL,\n",
    "        bias_init=InitializerType.RANDOM_DIST_NORMAL,\n",
    "        input_size=input_size,\n",
    "        output_size=hidden_size,\n",
    "        param_1=param_1,\n",
    "        param_2=param_2,\n",
    "        activation=ActivationFunction.relu,\n",
    "        layer_name=f\"Hidden Layer {i}\"\n",
    "    ) for i in range(hidden_layers)],\n",
    "    OutputLayer(\n",
    "        weight_init=InitializerType.RANDOM_DIST_NORMAL,\n",
    "        bias_init=InitializerType.RANDOM_DIST_NORMAL,\n",
    "        input_size=hidden_size,\n",
    "        output_size=output_size,\n",
    "        param_1=param_1,\n",
    "        param_2=param_2,\n",
    "        activation=ActivationFunction.softmax,\n",
    "        layer_name=\"Output Layer\"\n",
    "    )\n",
    ")"
   ],
   "id": "fa6ea97943bbfc96",
   "outputs": [],
   "execution_count": 7
  },
  {
   "metadata": {
    "jupyter": {
     "is_executing": true
    },
    "ExecuteTime": {
     "start_time": "2025-03-11T03:11:12.553289Z"
    }
   },
   "cell_type": "code",
   "source": [
    "# Train Artificial Neural Network\n",
    "ann.train(\n",
    "    torch.tensor(X_train),\n",
    "    torch.tensor(Y_train),\n",
    "    learning_rate,\n",
    "    500,\n",
    "    LossFunction.mean_squared_error,\n",
    "    verbose = True\n",
    ")"
   ],
   "id": "19e428bf85e6d3bc",
   "outputs": [
    {
     "name": "stdout",
     "output_type": "stream",
     "text": [
      "Epoch 0 - Loss: 25.054248809814453\n",
      "Epoch 1 - Loss: 12.527289390563965\n",
      "Epoch 2 - Loss: 8.351560592651367\n",
      "Epoch 3 - Loss: 6.263682842254639\n",
      "Epoch 4 - Loss: 5.010952472686768\n",
      "Epoch 5 - Loss: 4.175796985626221\n",
      "Epoch 6 - Loss: 3.579256772994995\n"
     ]
    }
   ],
   "execution_count": null
  },
  {
   "metadata": {},
   "cell_type": "code",
   "source": [
    "# Test Artificial Neural Network\n",
    "ann.test(torch.tensor(X_dev), torch.tensor(Y_dev), LossFunction.mean_squared_error)"
   ],
   "id": "aa429c6f4829613f",
   "outputs": [],
   "execution_count": null
  }
 ],
 "metadata": {
  "kernelspec": {
   "display_name": "Python 3",
   "language": "python",
   "name": "python3"
  },
  "language_info": {
   "codemirror_mode": {
    "name": "ipython",
    "version": 2
   },
   "file_extension": ".py",
   "mimetype": "text/x-python",
   "name": "python",
   "nbconvert_exporter": "python",
   "pygments_lexer": "ipython2",
   "version": "2.7.6"
  }
 },
 "nbformat": 4,
 "nbformat_minor": 5
}
