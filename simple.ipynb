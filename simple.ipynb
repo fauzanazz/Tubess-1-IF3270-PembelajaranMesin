{
 "cells": [
  {
   "cell_type": "markdown",
   "id": "8a77807f92f26ee",
   "metadata": {},
   "source": [
    "# Scratch Artificial Neural Network"
   ]
  },
  {
   "cell_type": "code",
   "id": "b32c4145c30d89a5",
   "metadata": {
    "ExecuteTime": {
     "end_time": "2025-03-27T20:40:01.510594Z",
     "start_time": "2025-03-27T20:40:01.383116Z"
    }
   },
   "source": [
    "%load_ext autoreload\n",
    "%autoreload 2"
   ],
   "outputs": [],
   "execution_count": 1
  },
  {
   "cell_type": "code",
   "id": "7df9140457caed5e",
   "metadata": {
    "ExecuteTime": {
     "end_time": "2025-03-27T20:40:06.753600Z",
     "start_time": "2025-03-27T20:40:01.534599Z"
    }
   },
   "source": [
    "import sys\n",
    "sys.dont_write_bytecode = True\n",
    "\n",
    "# Import libraries\n",
    "import numpy as np\n",
    "from sklearn.datasets import fetch_openml\n",
    "from sklearn.model_selection import train_test_split\n",
    "\n",
    "# Import custom modules\n",
    "from ArtificialNeuralNetwork import ArtificialNeuralNetwork\n",
    "from Layer import Layer, OutputLayer\n",
    "from Function import ActivationFunction, LossFunction\n",
    "from enums import InitializerType"
   ],
   "outputs": [],
   "execution_count": 2
  },
  {
   "cell_type": "markdown",
   "id": "6c34fd47c03a7a52",
   "metadata": {},
   "source": [
    "# Pipeline for testing MNIST dataset"
   ]
  },
  {
   "cell_type": "code",
   "id": "852d5247313debdf",
   "metadata": {
    "ExecuteTime": {
     "end_time": "2025-03-27T20:40:06.891713Z",
     "start_time": "2025-03-27T20:40:06.860284Z"
    }
   },
   "source": [
    "input_size = 784\n",
    "hidden_layers = 2\n",
    "hidden_size = 128\n",
    "output_size = 10\n",
    "learning_rate = 0.001\n",
    "param_1 = 0\n",
    "param_2 = 0\n",
    "batch_size = 128"
   ],
   "outputs": [],
   "execution_count": 3
  },
  {
   "metadata": {
    "ExecuteTime": {
     "end_time": "2025-03-27T20:40:11.408161Z",
     "start_time": "2025-03-27T20:40:06.936588Z"
    }
   },
   "cell_type": "code",
   "source": [
    "# Load MNIST dataset using fetch_openml\n",
    "X, y = fetch_openml('mnist_784', version=1, return_X_y=True, as_frame=False)\n",
    "X = X / 255.0\n",
    "y = y.astype(int)\n",
    "\n",
    "\n",
    "# Split into train and test sets\n",
    "X_train, X_test, y_train, y_test = train_test_split(\n",
    "    X, y, test_size=0.2, random_state=42,\n",
    ")"
   ],
   "id": "64007baf6bf48e8f",
   "outputs": [
    {
     "name": "stdout",
     "output_type": "stream",
     "text": [
      "Loading MNIST dataset...\n"
     ]
    }
   ],
   "execution_count": 4
  },
  {
   "metadata": {
    "ExecuteTime": {
     "end_time": "2025-03-27T20:53:25.085591Z",
     "start_time": "2025-03-27T20:53:25.058078Z"
    }
   },
   "cell_type": "code",
   "source": [
    "ann = ArtificialNeuralNetwork(\n",
    "    123,\n",
    "    Layer(\n",
    "        weight_init=InitializerType.XAVIER,\n",
    "        bias_init=InitializerType.ZERO,\n",
    "        input_size=input_size,\n",
    "        num_neurons=hidden_size,\n",
    "        param_1=param_1,\n",
    "        param_2=param_2,\n",
    "        activation=ActivationFunction.relu,\n",
    "        layer_name=f\"Hidden Layer 0\"\n",
    "    ),\n",
    "    *[Layer(\n",
    "        weight_init=InitializerType.XAVIER,\n",
    "        bias_init=InitializerType.ZERO,\n",
    "        input_size=hidden_size,\n",
    "        num_neurons=hidden_size,\n",
    "        param_1=param_1,\n",
    "        param_2=param_2,\n",
    "        activation=ActivationFunction.relu,\n",
    "        layer_name=f\"Hidden Layer {i + 1}\"\n",
    "    ) for i in range(hidden_layers)],\n",
    "    OutputLayer(\n",
    "        weight_init=InitializerType.XAVIER,\n",
    "        bias_init=InitializerType.ZERO,\n",
    "        input_size=hidden_size,\n",
    "        num_neurons=output_size,\n",
    "        param_1=param_1,\n",
    "        param_2=param_2,\n",
    "        activation=ActivationFunction.relu,\n",
    "        loss_funct=LossFunction.categorical_cross_entropy,\n",
    "        layer_name=\"Output Layer\"\n",
    "    )\n",
    ")"
   ],
   "id": "43fa17185f77d3b1",
   "outputs": [],
   "execution_count": 64
  },
  {
   "metadata": {
    "ExecuteTime": {
     "end_time": "2025-03-27T20:55:08.088550Z",
     "start_time": "2025-03-27T20:54:46.786119Z"
    }
   },
   "cell_type": "code",
   "source": [
    "ann.train(\n",
    "    x=X_train,\n",
    "    y=y_train,\n",
    "    loss_function=LossFunction.categorical_cross_entropy,\n",
    "    lr=0.01,\n",
    "    epochs=40,\n",
    "    batch_size=batch_size,\n",
    "    shuffle=False,\n",
    "    verbose=50,\n",
    ")"
   ],
   "id": "d450061c5a5c292f",
   "outputs": [
    {
     "name": "stdout",
     "output_type": "stream",
     "text": [
      "Total training time: 21.27s\n"
     ]
    }
   ],
   "execution_count": 68
  },
  {
   "metadata": {
    "ExecuteTime": {
     "end_time": "2025-03-27T20:55:13.065852Z",
     "start_time": "2025-03-27T20:55:12.942975Z"
    }
   },
   "cell_type": "code",
   "source": [
    "from sklearn.metrics import f1_score\n",
    "\n",
    "y_pred = ann.predict(X_test)\n",
    "print(f\"F1 Score: {f1_score(y_test, y_pred, average='macro')}\")"
   ],
   "id": "392227228fc2a37f",
   "outputs": [
    {
     "name": "stdout",
     "output_type": "stream",
     "text": [
      "F1 Score: 0.9685499900261314\n"
     ]
    }
   ],
   "execution_count": 69
  },
  {
   "metadata": {},
   "cell_type": "code",
   "outputs": [],
   "execution_count": null,
   "source": "ann.save(\"ann_model.pkl\")",
   "id": "33f52e18ff0e9efb"
  },
  {
   "metadata": {},
   "cell_type": "code",
   "outputs": [],
   "execution_count": null,
   "source": "new_model = ArtificialNeuralNetwork()",
   "id": "251f8cd600bb973e"
  },
  {
   "cell_type": "code",
   "id": "ccdd8bbc",
   "metadata": {},
   "source": [
    "new_model.load(\"ann_model.pkl\")"
   ],
   "outputs": [],
   "execution_count": null
  },
  {
   "metadata": {},
   "cell_type": "code",
   "outputs": [],
   "execution_count": null,
   "source": "new_model.evaluate(X_test, y_test)",
   "id": "80aa99ef865a4376"
  },
  {
   "metadata": {
    "ExecuteTime": {
     "end_time": "2025-03-27T20:55:53.656971Z",
     "start_time": "2025-03-27T20:55:31.122182Z"
    }
   },
   "cell_type": "code",
   "source": [
    "# Compare with MLP\n",
    "\n",
    "from sklearn.neural_network import MLPClassifier\n",
    "from sklearn.metrics import accuracy_score\n",
    "\n",
    "\n",
    "model = MLPClassifier(\n",
    "    hidden_layer_sizes=(128, 128),\n",
    "    activation='relu',\n",
    "    solver='sgd',\n",
    "    max_iter=50,\n",
    "    batch_size=batch_size,             \n",
    "    random_state=123,\n",
    "    verbose= True,\n",
    "    learning_rate_init= learning_rate,\n",
    "    learning_rate='constant',\n",
    "    tol=0.0\n",
    ")\n",
    "\n",
    "# Train the model\n",
    "model.fit(X_train, y_train)\n",
    "\n",
    "# Make predictions\n",
    "y_pred = model.predict(X_test)\n",
    "\n",
    "# Evaluate the model\n",
    "print(\"F1 Score: \", f1_score(y_test, y_pred, average='macro'))"
   ],
   "id": "1f8431feb19aeef0",
   "outputs": [
    {
     "name": "stdout",
     "output_type": "stream",
     "text": [
      "Iteration 1, loss = 1.34060575\n",
      "Iteration 2, loss = 0.52113243\n",
      "Iteration 3, loss = 0.39748571\n",
      "Iteration 4, loss = 0.34862579\n",
      "Iteration 5, loss = 0.32021683\n",
      "Iteration 6, loss = 0.29985285\n",
      "Iteration 7, loss = 0.28382339\n",
      "Iteration 8, loss = 0.27036860\n",
      "Iteration 9, loss = 0.25837547\n",
      "Iteration 10, loss = 0.24777631\n",
      "Iteration 11, loss = 0.23788150\n",
      "Iteration 12, loss = 0.22921545\n",
      "Iteration 13, loss = 0.22032913\n",
      "Iteration 14, loss = 0.21271524\n",
      "Iteration 15, loss = 0.20524109\n",
      "Iteration 16, loss = 0.19833992\n",
      "Iteration 17, loss = 0.19139470\n",
      "Iteration 18, loss = 0.18554246\n",
      "Iteration 19, loss = 0.17961486\n",
      "Iteration 20, loss = 0.17415077\n",
      "Iteration 21, loss = 0.16907118\n",
      "Iteration 22, loss = 0.16422230\n",
      "Iteration 23, loss = 0.15970101\n",
      "Iteration 24, loss = 0.15525195\n",
      "Iteration 25, loss = 0.15121036\n",
      "Iteration 26, loss = 0.14722284\n",
      "Iteration 27, loss = 0.14353893\n",
      "Iteration 28, loss = 0.14003026\n",
      "Iteration 29, loss = 0.13637764\n",
      "Iteration 30, loss = 0.13341601\n",
      "Iteration 31, loss = 0.13024392\n",
      "Iteration 32, loss = 0.12735695\n",
      "Iteration 33, loss = 0.12440079\n",
      "Iteration 34, loss = 0.12164257\n",
      "Iteration 35, loss = 0.11913597\n",
      "Iteration 36, loss = 0.11631085\n",
      "Iteration 37, loss = 0.11401983\n",
      "Iteration 38, loss = 0.11166120\n",
      "Iteration 39, loss = 0.10936274\n",
      "Iteration 40, loss = 0.10720101\n",
      "Iteration 41, loss = 0.10497356\n",
      "Iteration 42, loss = 0.10303668\n",
      "Iteration 43, loss = 0.10110131\n",
      "Iteration 44, loss = 0.09908138\n",
      "Iteration 45, loss = 0.09733728\n",
      "Iteration 46, loss = 0.09530823\n",
      "Iteration 47, loss = 0.09368294\n",
      "Iteration 48, loss = 0.09200968\n",
      "Iteration 49, loss = 0.09036930\n",
      "Iteration 50, loss = 0.08852815\n",
      "F1 Score:  0.9633134147860749\n"
     ]
    },
    {
     "name": "stderr",
     "output_type": "stream",
     "text": [
      "/Users/mfauzanazhim/Github/Tubess-1-IF3270-PembelajaranMesin/.venv/lib/python3.12/site-packages/sklearn/neural_network/_multilayer_perceptron.py:691: ConvergenceWarning: Stochastic Optimizer: Maximum iterations (50) reached and the optimization hasn't converged yet.\n",
      "  warnings.warn(\n"
     ]
    }
   ],
   "execution_count": 70
  }
 ],
 "metadata": {
  "kernelspec": {
   "display_name": "Python 3",
   "language": "python",
   "name": "python3"
  },
  "language_info": {
   "codemirror_mode": {
    "name": "ipython",
    "version": 3
   },
   "file_extension": ".py",
   "mimetype": "text/x-python",
   "name": "python",
   "nbconvert_exporter": "python",
   "pygments_lexer": "ipython3",
   "version": "3.13.2"
  }
 },
 "nbformat": 4,
 "nbformat_minor": 5
}
