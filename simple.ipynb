{
 "cells": [
  {
   "metadata": {},
   "cell_type": "markdown",
   "source": "# Scratch Artificial Neural Network",
   "id": "8a77807f92f26ee"
  },
  {
   "metadata": {
    "ExecuteTime": {
     "end_time": "2025-03-10T19:04:52.287818Z",
     "start_time": "2025-03-10T19:04:52.221009Z"
    }
   },
   "cell_type": "code",
   "source": [
    "%load_ext autoreload\n",
    "%autoreload 2"
   ],
   "id": "b32c4145c30d89a5",
   "outputs": [
    {
     "name": "stdout",
     "output_type": "stream",
     "text": [
      "The autoreload extension is already loaded. To reload it, use:\n",
      "  %reload_ext autoreload\n"
     ]
    }
   ],
   "execution_count": 17
  },
  {
   "metadata": {
    "ExecuteTime": {
     "end_time": "2025-03-10T19:04:52.304119Z",
     "start_time": "2025-03-10T19:04:52.291221Z"
    }
   },
   "cell_type": "code",
   "source": [
    "import sys\n",
    "\n",
    "sys.dont_write_bytecode = True\n",
    "\n",
    "# Import libraries\n",
    "# External libraries\n",
    "import torch\n",
    "\n",
    "\n",
    "# Import Libraries\n",
    "import numpy as np\n",
    "import pandas as pd\n",
    "from ArtificialNeuralNetwork import ArtificialNeuralNetwork\n",
    "from Function import ActivationFunction, LossFunction\n",
    "from enums import InitializerType"
   ],
   "id": "7df9140457caed5e",
   "outputs": [],
   "execution_count": 18
  },
  {
   "metadata": {
    "ExecuteTime": {
     "end_time": "2025-03-10T19:04:52.359940Z",
     "start_time": "2025-03-10T19:04:52.332723Z"
    }
   },
   "cell_type": "code",
   "source": [
    "# Disable __grad based on assistant direction\n",
    "torch.set_grad_enabled(False)"
   ],
   "id": "5ccd2101c23e2da9",
   "outputs": [
    {
     "data": {
      "text/plain": [
       "<torch.autograd.grad_mode.set_grad_enabled at 0x153637260>"
      ]
     },
     "execution_count": 19,
     "metadata": {},
     "output_type": "execute_result"
    }
   ],
   "execution_count": 19
  },
  {
   "metadata": {},
   "cell_type": "markdown",
   "source": "# Pipeline for testing MNIST dataset",
   "id": "6c34fd47c03a7a52"
  },
  {
   "metadata": {
    "ExecuteTime": {
     "end_time": "2025-03-10T19:04:52.394153Z",
     "start_time": "2025-03-10T19:04:52.379687Z"
    }
   },
   "cell_type": "code",
   "source": [
    "# Const variables\n",
    "input_size = 784\n",
    "hidden_layers = 1\n",
    "output_size = 10\n",
    "learning_rate = 0.01\n",
    "param_1 = 0\n",
    "param_2 = 0.5"
   ],
   "id": "852d5247313debdf",
   "outputs": [],
   "execution_count": 20
  },
  {
   "metadata": {
    "ExecuteTime": {
     "end_time": "2025-03-10T19:04:52.398395Z",
     "start_time": "2025-03-10T19:04:52.396868Z"
    }
   },
   "cell_type": "code",
   "source": "",
   "id": "2eba7d3a6391ac3c",
   "outputs": [],
   "execution_count": null
  },
  {
   "metadata": {
    "ExecuteTime": {
     "end_time": "2025-03-10T19:04:53.613271Z",
     "start_time": "2025-03-10T19:04:52.405130Z"
    }
   },
   "cell_type": "code",
   "source": [
    "# Import Dataset\n",
    "train = pd.read_csv(\"data/train.csv\")"
   ],
   "id": "ed5d4ed564e62c86",
   "outputs": [],
   "execution_count": 21
  },
  {
   "metadata": {
    "ExecuteTime": {
     "end_time": "2025-03-10T19:04:54.072473Z",
     "start_time": "2025-03-10T19:04:53.630606Z"
    }
   },
   "cell_type": "code",
   "source": [
    "# Data Preprocessing\n",
    "data = np.array(train)\n",
    "m, n = data.shape\n",
    "np.random.shuffle(data)\n",
    "\n",
    "data_dev = data[0:1000].T\n",
    "Y_dev = data_dev[0]\n",
    "X_dev = data_dev[1:n]\n",
    "X_dev = X_dev / 255.\n",
    "\n",
    "data_train = data[1000:m].T\n",
    "Y_train = data_train[0]\n",
    "X_train = data_train[1:n]\n",
    "X_train = X_train / 255.\n",
    "_,m_train = X_train.shape\n",
    "X_train = X_train.T"
   ],
   "id": "f1f0258415e2b31e",
   "outputs": [],
   "execution_count": 22
  },
  {
   "metadata": {
    "ExecuteTime": {
     "end_time": "2025-03-10T19:04:54.124471Z",
     "start_time": "2025-03-10T19:04:54.083427Z"
    }
   },
   "cell_type": "code",
   "source": [
    "# Initialize Artificial Neural Network\n",
    "ann = ArtificialNeuralNetwork(input_size, output_size, hidden_layers, 128, InitializerType.RANDOM_DIST_NORMAL, InitializerType.RANDOM_DIST_NORMAL, param_1, param_2, 0, ActivationFunction.sigmoid, LossFunction.mean_squared_error)"
   ],
   "id": "fa6ea97943bbfc96",
   "outputs": [],
   "execution_count": 23
  },
  {
   "metadata": {
    "ExecuteTime": {
     "end_time": "2025-03-10T19:13:52.577334Z",
     "start_time": "2025-03-10T19:04:54.139296Z"
    }
   },
   "cell_type": "code",
   "source": [
    "# Train Artificial Neural Network\n",
    "ann.train(torch.tensor(X_train), torch.tensor(Y_train), learning_rate, 2, LossFunction.mean_squared_error, verbose = True)"
   ],
   "id": "19e428bf85e6d3bc",
   "outputs": [
    {
     "name": "stdout",
     "output_type": "stream",
     "text": [
      "Iter 1000 - Loss: 11.100004196166992\n",
      "Iter 2000 - Loss: 11.100011825561523\n",
      "Iter 3000 - Loss: 1.9000076055526733\n",
      "Iter 4000 - Loss: 41.12352752685547\n",
      "Iter 5000 - Loss: 54.920257568359375\n",
      "Iter 6000 - Loss: 30.43178367614746\n",
      "Iter 7000 - Loss: 12.498649597167969\n",
      "Iter 8000 - Loss: 72.49488067626953\n",
      "Iter 9000 - Loss: 56.49599075317383\n",
      "Iter 10000 - Loss: 0.49952539801597595\n",
      "Iter 11000 - Loss: 6.498809814453125\n",
      "Iter 12000 - Loss: 12.498847007751465\n",
      "Iter 13000 - Loss: 56.49760818481445\n",
      "Iter 14000 - Loss: 42.4964599609375\n",
      "Iter 15000 - Loss: 12.496374130249023\n",
      "Iter 16000 - Loss: 12.497663497924805\n",
      "Iter 17000 - Loss: 72.4944839477539\n",
      "Iter 18000 - Loss: 30.49550437927246\n",
      "Iter 19000 - Loss: 0.4993400573730469\n",
      "Iter 20000 - Loss: 12.495534896850586\n",
      "Iter 21000 - Loss: 56.49556350708008\n",
      "Iter 22000 - Loss: 30.497852325439453\n",
      "Iter 23000 - Loss: 6.4977707862854\n",
      "Iter 24000 - Loss: 6.498254299163818\n",
      "Iter 25000 - Loss: 42.490177154541016\n",
      "Iter 26000 - Loss: 6.49493408203125\n",
      "Iter 27000 - Loss: 20.484285354614258\n",
      "Iter 28000 - Loss: 56.445640563964844\n",
      "Iter 29000 - Loss: 20.497568130493164\n",
      "Iter 30000 - Loss: 0.5000001192092896\n",
      "Iter 31000 - Loss: 6.499048709869385\n",
      "Iter 32000 - Loss: 6.498604774475098\n",
      "Iter 33000 - Loss: 56.49747848510742\n",
      "Iter 34000 - Loss: 6.498302459716797\n",
      "Iter 35000 - Loss: 30.497182846069336\n",
      "Iter 36000 - Loss: 6.499338626861572\n",
      "Iter 37000 - Loss: 30.4974422454834\n",
      "Iter 38000 - Loss: 6.498793601989746\n",
      "Iter 39000 - Loss: 6.498578071594238\n",
      "Iter 40000 - Loss: 6.497926235198975\n",
      "Iter 41000 - Loss: 42.494911193847656\n",
      "Epoch 0 - Loss: 42.494911193847656\n",
      "Iter 1000 - Loss: 12.498159408569336\n",
      "Iter 2000 - Loss: 12.497191429138184\n",
      "Iter 3000 - Loss: 2.498664140701294\n",
      "Iter 4000 - Loss: 42.49373245239258\n",
      "Iter 5000 - Loss: 56.4967155456543\n",
      "Iter 6000 - Loss: 30.496816635131836\n",
      "Iter 7000 - Loss: 12.498346328735352\n",
      "Iter 8000 - Loss: 72.4937744140625\n",
      "Iter 9000 - Loss: 56.49504852294922\n",
      "Iter 10000 - Loss: 0.49940943717956543\n",
      "Iter 11000 - Loss: 6.498490810394287\n",
      "Iter 12000 - Loss: 12.49850845336914\n",
      "Iter 13000 - Loss: 56.496864318847656\n",
      "Iter 14000 - Loss: 42.49538803100586\n",
      "Iter 15000 - Loss: 12.495299339294434\n",
      "Iter 16000 - Loss: 12.496864318847656\n",
      "Iter 17000 - Loss: 72.49238586425781\n",
      "Iter 18000 - Loss: 30.49371337890625\n",
      "Iter 19000 - Loss: 0.4990402162075043\n",
      "Iter 20000 - Loss: 12.493487358093262\n",
      "Iter 21000 - Loss: 56.492706298828125\n",
      "Iter 22000 - Loss: 30.495914459228516\n",
      "Iter 23000 - Loss: 6.495423793792725\n",
      "Iter 24000 - Loss: 6.494187831878662\n",
      "Iter 25000 - Loss: 42.331382751464844\n",
      "Iter 26000 - Loss: 6.469613552093506\n",
      "Iter 27000 - Loss: 20.49211311340332\n",
      "Iter 28000 - Loss: 56.496337890625\n",
      "Iter 29000 - Loss: 20.495662689208984\n",
      "Iter 30000 - Loss: 0.5000005960464478\n",
      "Iter 31000 - Loss: 6.4980926513671875\n",
      "Iter 32000 - Loss: 6.497206211090088\n",
      "Iter 33000 - Loss: 56.4944953918457\n",
      "Iter 34000 - Loss: 6.496338844299316\n",
      "Iter 35000 - Loss: 30.49334716796875\n",
      "Iter 36000 - Loss: 6.4980788230896\n",
      "Iter 37000 - Loss: 30.492534637451172\n",
      "Iter 38000 - Loss: 6.495946407318115\n",
      "Iter 39000 - Loss: 6.494361877441406\n",
      "Iter 40000 - Loss: 6.489645481109619\n",
      "Iter 41000 - Loss: 42.48817825317383\n",
      "Epoch 1 - Loss: 42.48817825317383\n"
     ]
    }
   ],
   "execution_count": 24
  },
  {
   "metadata": {
    "ExecuteTime": {
     "end_time": "2025-03-10T19:13:59.638651Z",
     "start_time": "2025-03-10T19:13:59.586565Z"
    }
   },
   "cell_type": "code",
   "source": [
    "# Test Artificial Neural Network\n",
    "ann.test(torch.tensor(X_dev), torch.tensor(Y_dev), LossFunction.mean_squared_error)"
   ],
   "id": "aa429c6f4829613f",
   "outputs": [
    {
     "ename": "AttributeError",
     "evalue": "'ArtificialNeuralNetwork' object has no attribute 'test'",
     "output_type": "error",
     "traceback": [
      "\u001B[0;31m---------------------------------------------------------------------------\u001B[0m",
      "\u001B[0;31mAttributeError\u001B[0m                            Traceback (most recent call last)",
      "Cell \u001B[0;32mIn[26], line 2\u001B[0m\n\u001B[1;32m      1\u001B[0m \u001B[38;5;66;03m# Test Artificial Neural Network\u001B[39;00m\n\u001B[0;32m----> 2\u001B[0m ann\u001B[38;5;241m.\u001B[39mtest(torch\u001B[38;5;241m.\u001B[39mtensor(X_dev), torch\u001B[38;5;241m.\u001B[39mtensor(Y_dev), LossFunction\u001B[38;5;241m.\u001B[39mmean_squared_error)\n",
      "\u001B[0;31mAttributeError\u001B[0m: 'ArtificialNeuralNetwork' object has no attribute 'test'"
     ]
    }
   ],
   "execution_count": 26
  }
 ],
 "metadata": {
  "kernelspec": {
   "display_name": "Python 3",
   "language": "python",
   "name": "python3"
  },
  "language_info": {
   "codemirror_mode": {
    "name": "ipython",
    "version": 2
   },
   "file_extension": ".py",
   "mimetype": "text/x-python",
   "name": "python",
   "nbconvert_exporter": "python",
   "pygments_lexer": "ipython2",
   "version": "2.7.6"
  }
 },
 "nbformat": 4,
 "nbformat_minor": 5
}
