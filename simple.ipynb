{
 "cells": [
  {
   "cell_type": "markdown",
   "id": "8a77807f92f26ee",
   "metadata": {},
   "source": [
    "# Scratch Artificial Neural Network"
   ]
  },
  {
   "cell_type": "code",
   "id": "b32c4145c30d89a5",
   "metadata": {
    "ExecuteTime": {
     "end_time": "2025-03-20T00:20:12.405220Z",
     "start_time": "2025-03-20T00:20:12.356831Z"
    }
   },
   "source": [
    "%load_ext autoreload\n",
    "%autoreload 2"
   ],
   "outputs": [],
   "execution_count": 1
  },
  {
   "cell_type": "code",
   "id": "7df9140457caed5e",
   "metadata": {
    "ExecuteTime": {
     "end_time": "2025-03-20T00:20:15.826081Z",
     "start_time": "2025-03-20T00:20:12.408337Z"
    }
   },
   "source": [
    "import sys\n",
    "sys.dont_write_bytecode = True\n",
    "\n",
    "# Import libraries\n",
    "import numpy as np\n",
    "from sklearn.datasets import fetch_openml\n",
    "from sklearn.model_selection import train_test_split\n",
    "\n",
    "# Import custom modules\n",
    "from ArtificialNeuralNetwork import ArtificialNeuralNetwork\n",
    "from Layer import Layer, OutputLayer\n",
    "from Function import ActivationFunction, LossFunction\n",
    "from enums import InitializerType"
   ],
   "outputs": [],
   "execution_count": 2
  },
  {
   "cell_type": "markdown",
   "id": "6c34fd47c03a7a52",
   "metadata": {},
   "source": [
    "# Pipeline for testing MNIST dataset"
   ]
  },
  {
   "cell_type": "code",
   "id": "852d5247313debdf",
   "metadata": {
    "ExecuteTime": {
     "end_time": "2025-03-20T00:20:16.079703Z",
     "start_time": "2025-03-20T00:20:15.977184Z"
    }
   },
   "source": [
    "input_size = 784\n",
    "hidden_layers = 2\n",
    "hidden_size = 128\n",
    "output_size = 10\n",
    "learning_rate = 0.001\n",
    "param_1 = 0\n",
    "param_2 = 0\n",
    "batch_size = 128"
   ],
   "outputs": [],
   "execution_count": 3
  },
  {
   "cell_type": "code",
   "id": "ed5d4ed564e62c86",
   "metadata": {
    "ExecuteTime": {
     "end_time": "2025-03-20T00:20:19.245965Z",
     "start_time": "2025-03-20T00:20:16.086490Z"
    }
   },
   "source": [
    "# Load MNIST dataset using fetch_openml\n",
    "print(\"Loading MNIST dataset...\")\n",
    "X, y = fetch_openml('mnist_784', version=1, return_X_y=True, as_frame=False)\n",
    "X = X / 255.0  # Normalize data\n",
    "y = y.astype(int)  # Convert labels to integers\n",
    "\n",
    "# Split into train and test sets\n",
    "X_train, X_test, y_train, y_test = train_test_split(\n",
    "    X, y, test_size=0.2, random_state=42\n",
    ")"
   ],
   "outputs": [
    {
     "name": "stdout",
     "output_type": "stream",
     "text": [
      "Loading MNIST dataset...\n"
     ]
    }
   ],
   "execution_count": 4
  },
  {
   "metadata": {
    "ExecuteTime": {
     "end_time": "2025-03-20T00:20:19.361331Z",
     "start_time": "2025-03-20T00:20:19.254921Z"
    }
   },
   "cell_type": "code",
   "source": [
    "def batch_generator(X, y, batch_size, shuffle=True):\n",
    "    n_samples = X.shape[0]\n",
    "    indices = np.arange(n_samples)\n",
    "\n",
    "    if shuffle:\n",
    "        np.random.shuffle(indices)\n",
    "\n",
    "    for start_idx in range(0, n_samples, batch_size):\n",
    "        end_idx = min(start_idx + batch_size, n_samples)\n",
    "        batch_indices = indices[start_idx:end_idx]\n",
    "        yield X[batch_indices], y[batch_indices]"
   ],
   "id": "3708940c43f9cfd1",
   "outputs": [],
   "execution_count": 5
  },
  {
   "metadata": {
    "ExecuteTime": {
     "end_time": "2025-03-20T00:20:19.475807Z",
     "start_time": "2025-03-20T00:20:19.370686Z"
    }
   },
   "cell_type": "code",
   "source": [
    "# Create train_loader and test_loader as generator objects\n",
    "train_loader = lambda: batch_generator(X_train, y_train, batch_size, shuffle=True)\n",
    "test_loader = lambda: batch_generator(X_test, y_test, batch_size, shuffle=False)"
   ],
   "id": "c2fc30b7528722e9",
   "outputs": [],
   "execution_count": 6
  },
  {
   "cell_type": "code",
   "id": "fa6ea97943bbfc96",
   "metadata": {
    "ExecuteTime": {
     "end_time": "2025-03-20T00:20:19.593211Z",
     "start_time": "2025-03-20T00:20:19.484788Z"
    }
   },
   "source": [
    "ann = ArtificialNeuralNetwork(\n",
    "    123,\n",
    "    Layer(\n",
    "        weight_init=InitializerType.RANDOM_DIST_UNIFORM,\n",
    "        bias_init=InitializerType.ZERO,\n",
    "        input_size=input_size,\n",
    "        num_neurons=hidden_size,\n",
    "        param_1=param_1,\n",
    "        param_2=param_2,\n",
    "        activation=ActivationFunction.relu,\n",
    "        layer_name=f\"Hidden Layer 0\"\n",
    "    ),\n",
    "    *[Layer(\n",
    "        weight_init=InitializerType.RANDOM_DIST_UNIFORM,\n",
    "        bias_init=InitializerType.ZERO,\n",
    "        input_size=hidden_size,\n",
    "        num_neurons=hidden_size,\n",
    "        param_1=param_1,\n",
    "        param_2=param_2,\n",
    "        activation=ActivationFunction.relu,\n",
    "        layer_name=f\"Hidden Layer {i + 1}\"\n",
    "    ) for i in range(hidden_layers)],\n",
    "    OutputLayer(\n",
    "        weight_init=InitializerType.RANDOM_DIST_UNIFORM,\n",
    "        bias_init=InitializerType.ZERO,\n",
    "        input_size=hidden_size,\n",
    "        num_neurons=output_size,\n",
    "        param_1=param_1,\n",
    "        param_2=param_2,\n",
    "        activation=ActivationFunction.softmax,\n",
    "        layer_name=\"Output Layer\"\n",
    "    )\n",
    ")"
   ],
   "outputs": [],
   "execution_count": 7
  },
  {
   "cell_type": "code",
   "id": "19e428bf85e6d3bc",
   "metadata": {
    "ExecuteTime": {
     "end_time": "2025-03-20T00:48:30.778119Z",
     "start_time": "2025-03-20T00:48:16.376676Z"
    }
   },
   "source": [
    "ann.train(\n",
    "    train_loader,\n",
    "    loss_function=LossFunction.categorical_cross_entropy,\n",
    "    lr=0.01,\n",
    "    epochs=20,\n",
    "    verbose=10\n",
    ")\n"
   ],
   "outputs": [
    {
     "name": "stdout",
     "output_type": "stream",
     "text": [
      "Epoch 10: Loss = 0.3308, Time = 0.65s\n",
      "Epoch 20: Loss = 0.2740, Time = 1.10s\n",
      "Total training time: 14.29s\n"
     ]
    }
   ],
   "execution_count": 18
  },
  {
   "cell_type": "code",
   "id": "9ebd446e0ee3620b",
   "metadata": {
    "ExecuteTime": {
     "end_time": "2025-03-20T00:48:03.018928Z",
     "start_time": "2025-03-20T00:48:02.853786Z"
    }
   },
   "source": "ann.test(test_loader)",
   "outputs": [
    {
     "name": "stdout",
     "output_type": "stream",
     "text": [
      "Test Accuracy: 96.85%, Time: 0.06s\n"
     ]
    }
   ],
   "execution_count": 17
  }
 ],
 "metadata": {
  "kernelspec": {
   "display_name": "Python 3",
   "language": "python",
   "name": "python3"
  },
  "language_info": {
   "codemirror_mode": {
    "name": "ipython",
    "version": 2
   },
   "file_extension": ".py",
   "mimetype": "text/x-python",
   "name": "python",
   "nbconvert_exporter": "python",
   "pygments_lexer": "ipython2",
   "version": "2.7.6"
  }
 },
 "nbformat": 4,
 "nbformat_minor": 5
}
