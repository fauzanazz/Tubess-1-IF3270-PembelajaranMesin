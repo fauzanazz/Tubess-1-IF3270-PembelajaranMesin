{
 "cells": [
  {
   "metadata": {},
   "cell_type": "markdown",
   "source": "# Scratch Artificial Neural Network",
   "id": "8a77807f92f26ee"
  },
  {
   "metadata": {
    "ExecuteTime": {
     "end_time": "2025-03-15T18:25:53.889086Z",
     "start_time": "2025-03-15T18:25:53.031442Z"
    }
   },
   "cell_type": "code",
   "source": [
    "from torch.utils.data import DataLoader\n",
    "%load_ext autoreload\n",
    "%autoreload 2"
   ],
   "id": "b32c4145c30d89a5",
   "outputs": [],
   "execution_count": 1
  },
  {
   "metadata": {
    "ExecuteTime": {
     "end_time": "2025-03-15T18:25:55.336938Z",
     "start_time": "2025-03-15T18:25:53.892413Z"
    }
   },
   "cell_type": "code",
   "source": [
    "import sys\n",
    "sys.dont_write_bytecode = True\n",
    "\n",
    "# Import libraries\n",
    "import torch\n",
    "import numpy as np\n",
    "import pandas as pd\n",
    "from torch.utils.data import DataLoader\n",
    "import torchvision\n",
    "import torchvision.transforms as transforms\n",
    "\n",
    "\n",
    "from ArtificialNeuralNetwork import ArtificialNeuralNetwork\n",
    "from Layer import Layer, OutputLayer\n",
    "from Function import ActivationFunction, LossFunction\n",
    "from enums import InitializerType"
   ],
   "id": "7df9140457caed5e",
   "outputs": [],
   "execution_count": 2
  },
  {
   "metadata": {
    "ExecuteTime": {
     "end_time": "2025-03-15T18:25:55.429450Z",
     "start_time": "2025-03-15T18:25:55.412912Z"
    }
   },
   "cell_type": "code",
   "source": [
    "# Disable __grad based on assistant direction\n",
    "torch.set_grad_enabled(False)"
   ],
   "id": "5ccd2101c23e2da9",
   "outputs": [
    {
     "data": {
      "text/plain": [
       "<torch.autograd.grad_mode.set_grad_enabled at 0x147dc7b60>"
      ]
     },
     "execution_count": 3,
     "metadata": {},
     "output_type": "execute_result"
    }
   ],
   "execution_count": 3
  },
  {
   "metadata": {},
   "cell_type": "markdown",
   "source": "# Pipeline for testing MNIST dataset",
   "id": "6c34fd47c03a7a52"
  },
  {
   "metadata": {
    "ExecuteTime": {
     "end_time": "2025-03-15T18:25:55.451057Z",
     "start_time": "2025-03-15T18:25:55.434565Z"
    }
   },
   "cell_type": "code",
   "source": [
    "input_size = 784\n",
    "hidden_layers = 2\n",
    "hidden_size = 128\n",
    "output_size = 10\n",
    "learning_rate = 0.001\n",
    "param_1 = 0\n",
    "param_2 = 0"
   ],
   "id": "852d5247313debdf",
   "outputs": [],
   "execution_count": 4
  },
  {
   "metadata": {
    "ExecuteTime": {
     "end_time": "2025-03-15T18:25:56.345551Z",
     "start_time": "2025-03-15T18:25:55.456282Z"
    }
   },
   "cell_type": "code",
   "source": [
    "# Import Dataset\n",
    "train = pd.read_csv(\"data/train.csv\")"
   ],
   "id": "ed5d4ed564e62c86",
   "outputs": [],
   "execution_count": 5
  },
  {
   "metadata": {
    "ExecuteTime": {
     "end_time": "2025-03-15T18:25:56.402179Z",
     "start_time": "2025-03-15T18:25:56.356123Z"
    }
   },
   "cell_type": "code",
   "source": [
    " # Define a simple transformation.\n",
    "transform = transforms.Compose([transforms.ToTensor()])\n",
    "\n",
    "# Load MNIST training and test datasets.\n",
    "train_dataset = torchvision.datasets.MNIST(root=\"./data\", train=True, download=True, transform=transform)\n",
    "test_dataset = torchvision.datasets.MNIST(root=\"./data\", train=False, download=True, transform=transform)\n",
    "\n",
    "# Create data loaders.\n",
    "train_loader = DataLoader(train_dataset, batch_size=64, shuffle=True)\n",
    "test_loader = DataLoader(test_dataset, batch_size=64, shuffle=False)\n"
   ],
   "id": "f1f0258415e2b31e",
   "outputs": [],
   "execution_count": 6
  },
  {
   "metadata": {
    "ExecuteTime": {
     "end_time": "2025-03-15T18:25:56.432683Z",
     "start_time": "2025-03-15T18:25:56.409100Z"
    }
   },
   "cell_type": "code",
   "source": [
    "ann = ArtificialNeuralNetwork(\n",
    "    123,\n",
    "    Layer(\n",
    "        weight_init=InitializerType.RANDOM_DIST_UNIFORM,\n",
    "        bias_init=InitializerType.ZERO,\n",
    "        input_size=input_size,\n",
    "        num_neurons=hidden_size,\n",
    "        param_1=param_1,\n",
    "        param_2=param_2,\n",
    "        activation=ActivationFunction.relu,\n",
    "        layer_name=f\"Hidden Layer 0\"\n",
    "    ),\n",
    "    *[Layer(\n",
    "        weight_init=InitializerType.RANDOM_DIST_UNIFORM,\n",
    "        bias_init=InitializerType.ZERO,\n",
    "        input_size=hidden_size,\n",
    "        num_neurons=hidden_size,\n",
    "        param_1=param_1,\n",
    "        param_2=param_2,\n",
    "        activation=ActivationFunction.relu,\n",
    "        layer_name=f\"Hidden Layer {i + 1}\"\n",
    "    ) for i in range(hidden_layers)],\n",
    "    OutputLayer(\n",
    "        weight_init=InitializerType.RANDOM_DIST_UNIFORM,\n",
    "        bias_init=InitializerType.ZERO,\n",
    "        input_size=hidden_size,\n",
    "        num_neurons=output_size,\n",
    "        param_1=param_1,\n",
    "        param_2=param_2,\n",
    "        activation=ActivationFunction.relu,\n",
    "        layer_name=\"Output Layer\"\n",
    "    )\n",
    ")"
   ],
   "id": "fa6ea97943bbfc96",
   "outputs": [],
   "execution_count": 7
  },
  {
   "metadata": {
    "jupyter": {
     "is_executing": true
    },
    "ExecuteTime": {
     "start_time": "2025-03-15T18:52:30.692541Z"
    }
   },
   "cell_type": "code",
   "source": [
    "ann.train(\n",
    "    train_loader,\n",
    "    lr=0.005,\n",
    "    epochs=200,\n",
    "    loss_function=LossFunction.categorical_cross_entropy\n",
    ")"
   ],
   "id": "19e428bf85e6d3bc",
   "outputs": [
    {
     "name": "stdout",
     "output_type": "stream",
     "text": [
      "Epoch 1: Loss = 1.7358\n",
      "Epoch 2: Loss = 1.7277\n",
      "Epoch 3: Loss = 1.7292\n",
      "Epoch 4: Loss = 1.7264\n",
      "Epoch 5: Loss = 1.7239\n",
      "Epoch 6: Loss = 1.7263\n",
      "Epoch 7: Loss = 1.7202\n",
      "Epoch 8: Loss = 1.7225\n",
      "Epoch 9: Loss = 1.7244\n",
      "Epoch 10: Loss = 1.7180\n",
      "Epoch 11: Loss = 1.7184\n",
      "Epoch 12: Loss = 1.7181\n",
      "Epoch 13: Loss = 1.7183\n",
      "Epoch 14: Loss = 1.7156\n",
      "Epoch 15: Loss = 1.7127\n",
      "Epoch 16: Loss = 1.7107\n",
      "Epoch 17: Loss = 1.7068\n",
      "Epoch 18: Loss = 1.7097\n",
      "Epoch 19: Loss = 1.7035\n",
      "Epoch 20: Loss = 1.7039\n",
      "Epoch 21: Loss = 1.7085\n",
      "Epoch 22: Loss = 1.7075\n",
      "Epoch 23: Loss = 1.7040\n",
      "Epoch 24: Loss = 1.7025\n",
      "Epoch 25: Loss = 1.6988\n",
      "Epoch 26: Loss = 1.6994\n",
      "Epoch 27: Loss = 1.6998\n",
      "Epoch 28: Loss = 1.6962\n",
      "Epoch 29: Loss = 1.6976\n",
      "Epoch 30: Loss = 1.7000\n",
      "Epoch 31: Loss = 1.6986\n",
      "Epoch 32: Loss = 1.6944\n",
      "Epoch 33: Loss = 1.6926\n",
      "Epoch 34: Loss = 1.6959\n",
      "Epoch 35: Loss = 1.6873\n",
      "Epoch 36: Loss = 1.6905\n",
      "Epoch 37: Loss = 1.6882\n",
      "Epoch 38: Loss = 1.6865\n",
      "Epoch 39: Loss = 1.6824\n",
      "Epoch 40: Loss = 1.6901\n",
      "Epoch 41: Loss = 1.6854\n",
      "Epoch 42: Loss = 1.6853\n",
      "Epoch 43: Loss = 1.6853\n",
      "Epoch 44: Loss = 1.6855\n",
      "Epoch 45: Loss = 1.6832\n",
      "Epoch 46: Loss = 1.6806\n",
      "Epoch 47: Loss = 1.6801\n",
      "Epoch 48: Loss = 1.6748\n",
      "Epoch 49: Loss = 1.6771\n",
      "Epoch 50: Loss = 1.6771\n",
      "Epoch 51: Loss = 1.6745\n",
      "Epoch 52: Loss = 1.6700\n",
      "Epoch 53: Loss = 1.6748\n",
      "Epoch 54: Loss = 1.6744\n",
      "Epoch 55: Loss = 1.6715\n",
      "Epoch 56: Loss = 1.6668\n",
      "Epoch 57: Loss = 1.6655\n",
      "Epoch 58: Loss = 1.6689\n",
      "Epoch 59: Loss = 1.6708\n",
      "Epoch 60: Loss = 1.6680\n",
      "Epoch 61: Loss = 1.6627\n",
      "Epoch 62: Loss = 1.6682\n",
      "Epoch 63: Loss = 1.6646\n",
      "Epoch 64: Loss = 1.6634\n",
      "Epoch 65: Loss = 1.6579\n",
      "Epoch 66: Loss = 1.6626\n",
      "Epoch 67: Loss = 1.6571\n",
      "Epoch 68: Loss = 1.6587\n",
      "Epoch 69: Loss = 1.6573\n",
      "Epoch 70: Loss = 1.6577\n",
      "Epoch 71: Loss = 1.6561\n",
      "Epoch 72: Loss = 1.6513\n",
      "Epoch 73: Loss = 1.6540\n",
      "Epoch 74: Loss = 1.6505\n",
      "Epoch 75: Loss = 1.6511\n",
      "Epoch 76: Loss = 1.6501\n",
      "Epoch 77: Loss = 1.6496\n",
      "Epoch 78: Loss = 1.6495\n",
      "Epoch 79: Loss = 1.6471\n"
     ]
    }
   ],
   "execution_count": null
  },
  {
   "metadata": {
    "ExecuteTime": {
     "end_time": "2025-03-15T18:50:58.659551Z",
     "start_time": "2025-03-15T18:50:58.341487Z"
    }
   },
   "cell_type": "code",
   "source": "ann.test(test_loader)",
   "id": "9ebd446e0ee3620b",
   "outputs": [
    {
     "name": "stdout",
     "output_type": "stream",
     "text": [
      "Test Accuracy: 98.03%\n"
     ]
    }
   ],
   "execution_count": 13
  }
 ],
 "metadata": {
  "kernelspec": {
   "display_name": "Python 3",
   "language": "python",
   "name": "python3"
  },
  "language_info": {
   "codemirror_mode": {
    "name": "ipython",
    "version": 2
   },
   "file_extension": ".py",
   "mimetype": "text/x-python",
   "name": "python",
   "nbconvert_exporter": "python",
   "pygments_lexer": "ipython2",
   "version": "2.7.6"
  }
 },
 "nbformat": 4,
 "nbformat_minor": 5
}
