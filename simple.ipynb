{
 "cells": [
  {
   "metadata": {},
   "cell_type": "markdown",
   "source": "# Scratch Artificial Neural Network",
   "id": "8a77807f92f26ee"
  },
  {
   "metadata": {
    "ExecuteTime": {
     "end_time": "2025-03-19T14:23:19.690203Z",
     "start_time": "2025-03-19T14:23:18.644123Z"
    }
   },
   "cell_type": "code",
   "source": [
    "from torch.utils.data import DataLoader\n",
    "%load_ext autoreload\n",
    "%autoreload 2"
   ],
   "id": "b32c4145c30d89a5",
   "outputs": [],
   "execution_count": 1
  },
  {
   "metadata": {
    "ExecuteTime": {
     "end_time": "2025-03-19T14:23:21.800063Z",
     "start_time": "2025-03-19T14:23:19.699888Z"
    }
   },
   "cell_type": "code",
   "source": [
    "import sys\n",
    "sys.dont_write_bytecode = True\n",
    "\n",
    "# Import libraries\n",
    "import torch\n",
    "import numpy as np\n",
    "import pandas as pd\n",
    "from torch.utils.data import DataLoader\n",
    "import torchvision\n",
    "import torchvision.transforms as transforms\n",
    "\n",
    "\n",
    "from ArtificialNeuralNetwork import ArtificialNeuralNetwork\n",
    "from Layer import Layer, OutputLayer\n",
    "from Function import ActivationFunction, LossFunction\n",
    "from enums import InitializerType"
   ],
   "id": "7df9140457caed5e",
   "outputs": [],
   "execution_count": 2
  },
  {
   "metadata": {
    "ExecuteTime": {
     "end_time": "2025-03-19T14:31:15.752368Z",
     "start_time": "2025-03-19T14:31:15.578668Z"
    }
   },
   "cell_type": "code",
   "source": [
    "# Disable __grad based on assistant direction\n",
    "torch.set_grad_enabled(False)\n",
    "# Verify MPS support\n",
    "if torch.backends.mps.is_available():\n",
    "    print(\"M1 GPU is available and PyTorch is configured to use MPS!\")\n",
    "else:\n",
    "    print(\"MPS backend is not available. Check your setup.\")\n",
    "\n",
    "device = torch.device(\"mps\" if torch.backends.mps.is_available() else \"cpu\")"
   ],
   "id": "5ccd2101c23e2da9",
   "outputs": [
    {
     "name": "stdout",
     "output_type": "stream",
     "text": [
      "M1 GPU is available and PyTorch is configured to use MPS!\n"
     ]
    }
   ],
   "execution_count": 11
  },
  {
   "metadata": {},
   "cell_type": "markdown",
   "source": "# Pipeline for testing MNIST dataset",
   "id": "6c34fd47c03a7a52"
  },
  {
   "metadata": {
    "ExecuteTime": {
     "end_time": "2025-03-19T14:23:21.985271Z",
     "start_time": "2025-03-19T14:23:21.966500Z"
    }
   },
   "cell_type": "code",
   "source": [
    "input_size = 784\n",
    "hidden_layers = 0\n",
    "hidden_size = 20\n",
    "output_size = 10\n",
    "learning_rate = 0.001\n",
    "param_1 = 0\n",
    "param_2 = 0"
   ],
   "id": "852d5247313debdf",
   "outputs": [],
   "execution_count": 4
  },
  {
   "metadata": {
    "ExecuteTime": {
     "end_time": "2025-03-19T14:23:23.126396Z",
     "start_time": "2025-03-19T14:23:22.058149Z"
    }
   },
   "cell_type": "code",
   "source": [
    "# Import Dataset\n",
    "train = pd.read_csv(\"data/train.csv\")"
   ],
   "id": "ed5d4ed564e62c86",
   "outputs": [],
   "execution_count": 5
  },
  {
   "metadata": {
    "ExecuteTime": {
     "end_time": "2025-03-19T14:31:53.296418Z",
     "start_time": "2025-03-19T14:31:53.173356Z"
    }
   },
   "cell_type": "code",
   "source": [
    " # Define a simple transformation.\n",
    "transform = transforms.Compose([transforms.ToTensor()])\n",
    "\n",
    "# Load MNIST training and test datasets.\n",
    "train_dataset = torchvision.datasets.MNIST(root=\"./data\", train=True, download=True, transform=transform)\n",
    "test_dataset = torchvision.datasets.MNIST(root=\"./data\", train=False, download=True, transform=transform)\n",
    "\n",
    "# Create data loaders.\n",
    "train_loader = DataLoader(train_dataset, batch_size=32, shuffle=True)\n",
    "test_loader = DataLoader(test_dataset, batch_size=32, shuffle=False)\n"
   ],
   "id": "f1f0258415e2b31e",
   "outputs": [],
   "execution_count": 12
  },
  {
   "metadata": {
    "ExecuteTime": {
     "end_time": "2025-03-19T14:31:55.715948Z",
     "start_time": "2025-03-19T14:31:55.687266Z"
    }
   },
   "cell_type": "code",
   "source": [
    "ann = ArtificialNeuralNetwork(\n",
    "    123,\n",
    "    Layer(\n",
    "        weight_init=InitializerType.RANDOM_DIST_UNIFORM,\n",
    "        bias_init=InitializerType.ZERO,\n",
    "        input_size=input_size,\n",
    "        num_neurons=hidden_size,\n",
    "        param_1=param_1,\n",
    "        param_2=param_2,\n",
    "        activation=ActivationFunction.relu,\n",
    "        layer_name=f\"Hidden Layer 0\"\n",
    "    ),\n",
    "    *[Layer(\n",
    "        weight_init=InitializerType.RANDOM_DIST_UNIFORM,\n",
    "        bias_init=InitializerType.ZERO,\n",
    "        input_size=hidden_size,\n",
    "        num_neurons=hidden_size,\n",
    "        param_1=param_1,\n",
    "        param_2=param_2,\n",
    "        activation=ActivationFunction.relu,\n",
    "        layer_name=f\"Hidden Layer {i + 1}\"\n",
    "    ) for i in range(hidden_layers)],\n",
    "    OutputLayer(\n",
    "        weight_init=InitializerType.RANDOM_DIST_UNIFORM,\n",
    "        bias_init=InitializerType.ZERO,\n",
    "        input_size=hidden_size,\n",
    "        num_neurons=output_size,\n",
    "        param_1=param_1,\n",
    "        param_2=param_2,\n",
    "        activation=ActivationFunction.relu,\n",
    "        layer_name=\"Output Layer\"\n",
    "    )\n",
    ")"
   ],
   "id": "fa6ea97943bbfc96",
   "outputs": [],
   "execution_count": 13
  },
  {
   "metadata": {
    "ExecuteTime": {
     "end_time": "2025-03-19T14:41:12.777351Z",
     "start_time": "2025-03-19T14:40:40.459811Z"
    }
   },
   "cell_type": "code",
   "source": [
    "ann.train(\n",
    "    train_loader,\n",
    "    lr=0.05,\n",
    "    epochs=20,\n",
    "    loss_function=LossFunction.categorical_cross_entropy\n",
    ")"
   ],
   "id": "19e428bf85e6d3bc",
   "outputs": [
    {
     "name": "stdout",
     "output_type": "stream",
     "text": [
      "Epoch 1: Loss = 11.1094\n",
      "Epoch 2: Loss = 11.0242\n",
      "Epoch 3: Loss = 10.9381\n",
      "Epoch 4: Loss = 10.9565\n",
      "Epoch 5: Loss = 10.7558\n",
      "Epoch 6: Loss = 10.9889\n",
      "Epoch 7: Loss = 10.9081\n",
      "Epoch 8: Loss = 11.5288\n",
      "Epoch 9: Loss = nan\n",
      "Epoch 10: Loss = nan\n",
      "Epoch 11: Loss = nan\n",
      "Epoch 12: Loss = nan\n",
      "Epoch 13: Loss = nan\n",
      "Epoch 14: Loss = nan\n",
      "Epoch 15: Loss = nan\n",
      "Epoch 16: Loss = nan\n",
      "Epoch 17: Loss = nan\n"
     ]
    },
    {
     "ename": "KeyboardInterrupt",
     "evalue": "",
     "output_type": "error",
     "traceback": [
      "\u001B[0;31m---------------------------------------------------------------------------\u001B[0m",
      "\u001B[0;31mKeyboardInterrupt\u001B[0m                         Traceback (most recent call last)",
      "Cell \u001B[0;32mIn[15], line 1\u001B[0m\n\u001B[0;32m----> 1\u001B[0m ann\u001B[38;5;241m.\u001B[39mtrain(\n\u001B[1;32m      2\u001B[0m     train_loader,\n\u001B[1;32m      3\u001B[0m     lr\u001B[38;5;241m=\u001B[39m\u001B[38;5;241m0.05\u001B[39m,\n\u001B[1;32m      4\u001B[0m     epochs\u001B[38;5;241m=\u001B[39m\u001B[38;5;241m20\u001B[39m,\n\u001B[1;32m      5\u001B[0m     loss_function\u001B[38;5;241m=\u001B[39mLossFunction\u001B[38;5;241m.\u001B[39mcategorical_cross_entropy\n\u001B[1;32m      6\u001B[0m )\n",
      "File \u001B[0;32m~/Documents/GitHub/Tubess-1-IF3270-PembelajaranMesin/ArtificialNeuralNetwork.py:29\u001B[0m, in \u001B[0;36mArtificialNeuralNetwork.train\u001B[0;34m(self, data_loader, loss_function, lr, epochs)\u001B[0m\n\u001B[1;32m     27\u001B[0m total_loss \u001B[38;5;241m=\u001B[39m \u001B[38;5;241m0.0\u001B[39m\n\u001B[1;32m     28\u001B[0m count \u001B[38;5;241m=\u001B[39m \u001B[38;5;241m0\u001B[39m\n\u001B[0;32m---> 29\u001B[0m \u001B[38;5;28;01mfor\u001B[39;00m x, y \u001B[38;5;129;01min\u001B[39;00m data_loader:\n\u001B[1;32m     30\u001B[0m     x \u001B[38;5;241m=\u001B[39m x\u001B[38;5;241m.\u001B[39mview(x\u001B[38;5;241m.\u001B[39msize(\u001B[38;5;241m0\u001B[39m), \u001B[38;5;241m-\u001B[39m\u001B[38;5;241m1\u001B[39m)\n\u001B[1;32m     31\u001B[0m     y_onehot \u001B[38;5;241m=\u001B[39m torch\u001B[38;5;241m.\u001B[39mzeros(x\u001B[38;5;241m.\u001B[39msize(\u001B[38;5;241m0\u001B[39m), \u001B[38;5;28mself\u001B[39m\u001B[38;5;241m.\u001B[39mlayers[\u001B[38;5;241m-\u001B[39m\u001B[38;5;241m1\u001B[39m]\u001B[38;5;241m.\u001B[39mnum_neurons)\n",
      "File \u001B[0;32m/opt/anaconda3/envs/Tubess-1-IF3270-PembelajaranMesin/lib/python3.12/site-packages/torch/utils/data/dataloader.py:708\u001B[0m, in \u001B[0;36m_BaseDataLoaderIter.__next__\u001B[0;34m(self)\u001B[0m\n\u001B[1;32m    705\u001B[0m \u001B[38;5;28;01mif\u001B[39;00m \u001B[38;5;28mself\u001B[39m\u001B[38;5;241m.\u001B[39m_sampler_iter \u001B[38;5;129;01mis\u001B[39;00m \u001B[38;5;28;01mNone\u001B[39;00m:\n\u001B[1;32m    706\u001B[0m     \u001B[38;5;66;03m# TODO(https://github.com/pytorch/pytorch/issues/76750)\u001B[39;00m\n\u001B[1;32m    707\u001B[0m     \u001B[38;5;28mself\u001B[39m\u001B[38;5;241m.\u001B[39m_reset()  \u001B[38;5;66;03m# type: ignore[call-arg]\u001B[39;00m\n\u001B[0;32m--> 708\u001B[0m data \u001B[38;5;241m=\u001B[39m \u001B[38;5;28mself\u001B[39m\u001B[38;5;241m.\u001B[39m_next_data()\n\u001B[1;32m    709\u001B[0m \u001B[38;5;28mself\u001B[39m\u001B[38;5;241m.\u001B[39m_num_yielded \u001B[38;5;241m+\u001B[39m\u001B[38;5;241m=\u001B[39m \u001B[38;5;241m1\u001B[39m\n\u001B[1;32m    710\u001B[0m \u001B[38;5;28;01mif\u001B[39;00m (\n\u001B[1;32m    711\u001B[0m     \u001B[38;5;28mself\u001B[39m\u001B[38;5;241m.\u001B[39m_dataset_kind \u001B[38;5;241m==\u001B[39m _DatasetKind\u001B[38;5;241m.\u001B[39mIterable\n\u001B[1;32m    712\u001B[0m     \u001B[38;5;129;01mand\u001B[39;00m \u001B[38;5;28mself\u001B[39m\u001B[38;5;241m.\u001B[39m_IterableDataset_len_called \u001B[38;5;129;01mis\u001B[39;00m \u001B[38;5;129;01mnot\u001B[39;00m \u001B[38;5;28;01mNone\u001B[39;00m\n\u001B[1;32m    713\u001B[0m     \u001B[38;5;129;01mand\u001B[39;00m \u001B[38;5;28mself\u001B[39m\u001B[38;5;241m.\u001B[39m_num_yielded \u001B[38;5;241m>\u001B[39m \u001B[38;5;28mself\u001B[39m\u001B[38;5;241m.\u001B[39m_IterableDataset_len_called\n\u001B[1;32m    714\u001B[0m ):\n",
      "File \u001B[0;32m/opt/anaconda3/envs/Tubess-1-IF3270-PembelajaranMesin/lib/python3.12/site-packages/torch/utils/data/dataloader.py:764\u001B[0m, in \u001B[0;36m_SingleProcessDataLoaderIter._next_data\u001B[0;34m(self)\u001B[0m\n\u001B[1;32m    762\u001B[0m \u001B[38;5;28;01mdef\u001B[39;00m \u001B[38;5;21m_next_data\u001B[39m(\u001B[38;5;28mself\u001B[39m):\n\u001B[1;32m    763\u001B[0m     index \u001B[38;5;241m=\u001B[39m \u001B[38;5;28mself\u001B[39m\u001B[38;5;241m.\u001B[39m_next_index()  \u001B[38;5;66;03m# may raise StopIteration\u001B[39;00m\n\u001B[0;32m--> 764\u001B[0m     data \u001B[38;5;241m=\u001B[39m \u001B[38;5;28mself\u001B[39m\u001B[38;5;241m.\u001B[39m_dataset_fetcher\u001B[38;5;241m.\u001B[39mfetch(index)  \u001B[38;5;66;03m# may raise StopIteration\u001B[39;00m\n\u001B[1;32m    765\u001B[0m     \u001B[38;5;28;01mif\u001B[39;00m \u001B[38;5;28mself\u001B[39m\u001B[38;5;241m.\u001B[39m_pin_memory:\n\u001B[1;32m    766\u001B[0m         data \u001B[38;5;241m=\u001B[39m _utils\u001B[38;5;241m.\u001B[39mpin_memory\u001B[38;5;241m.\u001B[39mpin_memory(data, \u001B[38;5;28mself\u001B[39m\u001B[38;5;241m.\u001B[39m_pin_memory_device)\n",
      "File \u001B[0;32m/opt/anaconda3/envs/Tubess-1-IF3270-PembelajaranMesin/lib/python3.12/site-packages/torch/utils/data/_utils/fetch.py:52\u001B[0m, in \u001B[0;36m_MapDatasetFetcher.fetch\u001B[0;34m(self, possibly_batched_index)\u001B[0m\n\u001B[1;32m     50\u001B[0m         data \u001B[38;5;241m=\u001B[39m \u001B[38;5;28mself\u001B[39m\u001B[38;5;241m.\u001B[39mdataset\u001B[38;5;241m.\u001B[39m__getitems__(possibly_batched_index)\n\u001B[1;32m     51\u001B[0m     \u001B[38;5;28;01melse\u001B[39;00m:\n\u001B[0;32m---> 52\u001B[0m         data \u001B[38;5;241m=\u001B[39m [\u001B[38;5;28mself\u001B[39m\u001B[38;5;241m.\u001B[39mdataset[idx] \u001B[38;5;28;01mfor\u001B[39;00m idx \u001B[38;5;129;01min\u001B[39;00m possibly_batched_index]\n\u001B[1;32m     53\u001B[0m \u001B[38;5;28;01melse\u001B[39;00m:\n\u001B[1;32m     54\u001B[0m     data \u001B[38;5;241m=\u001B[39m \u001B[38;5;28mself\u001B[39m\u001B[38;5;241m.\u001B[39mdataset[possibly_batched_index]\n",
      "File \u001B[0;32m/opt/anaconda3/envs/Tubess-1-IF3270-PembelajaranMesin/lib/python3.12/site-packages/torchvision/datasets/mnist.py:146\u001B[0m, in \u001B[0;36mMNIST.__getitem__\u001B[0;34m(self, index)\u001B[0m\n\u001B[1;32m    143\u001B[0m img \u001B[38;5;241m=\u001B[39m Image\u001B[38;5;241m.\u001B[39mfromarray(img\u001B[38;5;241m.\u001B[39mnumpy(), mode\u001B[38;5;241m=\u001B[39m\u001B[38;5;124m\"\u001B[39m\u001B[38;5;124mL\u001B[39m\u001B[38;5;124m\"\u001B[39m)\n\u001B[1;32m    145\u001B[0m \u001B[38;5;28;01mif\u001B[39;00m \u001B[38;5;28mself\u001B[39m\u001B[38;5;241m.\u001B[39mtransform \u001B[38;5;129;01mis\u001B[39;00m \u001B[38;5;129;01mnot\u001B[39;00m \u001B[38;5;28;01mNone\u001B[39;00m:\n\u001B[0;32m--> 146\u001B[0m     img \u001B[38;5;241m=\u001B[39m \u001B[38;5;28mself\u001B[39m\u001B[38;5;241m.\u001B[39mtransform(img)\n\u001B[1;32m    148\u001B[0m \u001B[38;5;28;01mif\u001B[39;00m \u001B[38;5;28mself\u001B[39m\u001B[38;5;241m.\u001B[39mtarget_transform \u001B[38;5;129;01mis\u001B[39;00m \u001B[38;5;129;01mnot\u001B[39;00m \u001B[38;5;28;01mNone\u001B[39;00m:\n\u001B[1;32m    149\u001B[0m     target \u001B[38;5;241m=\u001B[39m \u001B[38;5;28mself\u001B[39m\u001B[38;5;241m.\u001B[39mtarget_transform(target)\n",
      "File \u001B[0;32m/opt/anaconda3/envs/Tubess-1-IF3270-PembelajaranMesin/lib/python3.12/site-packages/torchvision/transforms/transforms.py:95\u001B[0m, in \u001B[0;36mCompose.__call__\u001B[0;34m(self, img)\u001B[0m\n\u001B[1;32m     93\u001B[0m \u001B[38;5;28;01mdef\u001B[39;00m \u001B[38;5;21m__call__\u001B[39m(\u001B[38;5;28mself\u001B[39m, img):\n\u001B[1;32m     94\u001B[0m     \u001B[38;5;28;01mfor\u001B[39;00m t \u001B[38;5;129;01min\u001B[39;00m \u001B[38;5;28mself\u001B[39m\u001B[38;5;241m.\u001B[39mtransforms:\n\u001B[0;32m---> 95\u001B[0m         img \u001B[38;5;241m=\u001B[39m t(img)\n\u001B[1;32m     96\u001B[0m     \u001B[38;5;28;01mreturn\u001B[39;00m img\n",
      "File \u001B[0;32m/opt/anaconda3/envs/Tubess-1-IF3270-PembelajaranMesin/lib/python3.12/site-packages/torchvision/transforms/transforms.py:137\u001B[0m, in \u001B[0;36mToTensor.__call__\u001B[0;34m(self, pic)\u001B[0m\n\u001B[1;32m    129\u001B[0m \u001B[38;5;28;01mdef\u001B[39;00m \u001B[38;5;21m__call__\u001B[39m(\u001B[38;5;28mself\u001B[39m, pic):\n\u001B[1;32m    130\u001B[0m \u001B[38;5;250m    \u001B[39m\u001B[38;5;124;03m\"\"\"\u001B[39;00m\n\u001B[1;32m    131\u001B[0m \u001B[38;5;124;03m    Args:\u001B[39;00m\n\u001B[1;32m    132\u001B[0m \u001B[38;5;124;03m        pic (PIL Image or numpy.ndarray): Image to be converted to tensor.\u001B[39;00m\n\u001B[0;32m   (...)\u001B[0m\n\u001B[1;32m    135\u001B[0m \u001B[38;5;124;03m        Tensor: Converted image.\u001B[39;00m\n\u001B[1;32m    136\u001B[0m \u001B[38;5;124;03m    \"\"\"\u001B[39;00m\n\u001B[0;32m--> 137\u001B[0m     \u001B[38;5;28;01mreturn\u001B[39;00m F\u001B[38;5;241m.\u001B[39mto_tensor(pic)\n",
      "File \u001B[0;32m/opt/anaconda3/envs/Tubess-1-IF3270-PembelajaranMesin/lib/python3.12/site-packages/torchvision/transforms/functional.py:174\u001B[0m, in \u001B[0;36mto_tensor\u001B[0;34m(pic)\u001B[0m\n\u001B[1;32m    172\u001B[0m img \u001B[38;5;241m=\u001B[39m img\u001B[38;5;241m.\u001B[39mview(pic\u001B[38;5;241m.\u001B[39msize[\u001B[38;5;241m1\u001B[39m], pic\u001B[38;5;241m.\u001B[39msize[\u001B[38;5;241m0\u001B[39m], F_pil\u001B[38;5;241m.\u001B[39mget_image_num_channels(pic))\n\u001B[1;32m    173\u001B[0m \u001B[38;5;66;03m# put it from HWC to CHW format\u001B[39;00m\n\u001B[0;32m--> 174\u001B[0m img \u001B[38;5;241m=\u001B[39m img\u001B[38;5;241m.\u001B[39mpermute((\u001B[38;5;241m2\u001B[39m, \u001B[38;5;241m0\u001B[39m, \u001B[38;5;241m1\u001B[39m))\u001B[38;5;241m.\u001B[39mcontiguous()\n\u001B[1;32m    175\u001B[0m \u001B[38;5;28;01mif\u001B[39;00m \u001B[38;5;28misinstance\u001B[39m(img, torch\u001B[38;5;241m.\u001B[39mByteTensor):\n\u001B[1;32m    176\u001B[0m     \u001B[38;5;28;01mreturn\u001B[39;00m img\u001B[38;5;241m.\u001B[39mto(dtype\u001B[38;5;241m=\u001B[39mdefault_float_dtype)\u001B[38;5;241m.\u001B[39mdiv(\u001B[38;5;241m255\u001B[39m)\n",
      "\u001B[0;31mKeyboardInterrupt\u001B[0m: "
     ]
    }
   ],
   "execution_count": 15
  },
  {
   "metadata": {
    "ExecuteTime": {
     "end_time": "2025-03-19T14:41:14.495016Z",
     "start_time": "2025-03-19T14:41:14.171120Z"
    }
   },
   "cell_type": "code",
   "source": "ann.test(test_loader)",
   "id": "9ebd446e0ee3620b",
   "outputs": [
    {
     "name": "stdout",
     "output_type": "stream",
     "text": [
      "Test Accuracy: 9.80%\n"
     ]
    }
   ],
   "execution_count": 16
  }
 ],
 "metadata": {
  "kernelspec": {
   "display_name": "Python 3",
   "language": "python",
   "name": "python3"
  },
  "language_info": {
   "codemirror_mode": {
    "name": "ipython",
    "version": 2
   },
   "file_extension": ".py",
   "mimetype": "text/x-python",
   "name": "python",
   "nbconvert_exporter": "python",
   "pygments_lexer": "ipython2",
   "version": "2.7.6"
  }
 },
 "nbformat": 4,
 "nbformat_minor": 5
}
