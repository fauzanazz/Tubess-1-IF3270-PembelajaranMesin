{
 "cells": [
  {
   "metadata": {},
   "cell_type": "markdown",
   "source": "# Scratch Artificial Neural Network",
   "id": "8a77807f92f26ee"
  },
  {
   "metadata": {
    "ExecuteTime": {
     "end_time": "2025-03-10T19:16:37.400512Z",
     "start_time": "2025-03-10T19:16:37.385365Z"
    }
   },
   "cell_type": "code",
   "source": [
    "%load_ext autoreload\n",
    "%autoreload 2"
   ],
   "id": "b32c4145c30d89a5",
   "outputs": [],
   "execution_count": 2
  },
  {
   "metadata": {
    "ExecuteTime": {
     "end_time": "2025-03-10T19:16:39.835849Z",
     "start_time": "2025-03-10T19:16:38.365162Z"
    }
   },
   "cell_type": "code",
   "source": [
    "import sys\n",
    "\n",
    "sys.dont_write_bytecode = True\n",
    "\n",
    "# Import libraries\n",
    "# External libraries\n",
    "import torch\n",
    "\n",
    "\n",
    "# Import Libraries\n",
    "import numpy as np\n",
    "import pandas as pd\n",
    "from ArtificialNeuralNetwork import ArtificialNeuralNetwork\n",
    "from Function import ActivationFunction, LossFunction\n",
    "from enums import InitializerType"
   ],
   "id": "7df9140457caed5e",
   "outputs": [],
   "execution_count": 3
  },
  {
   "metadata": {
    "ExecuteTime": {
     "end_time": "2025-03-10T19:04:52.359940Z",
     "start_time": "2025-03-10T19:04:52.332723Z"
    }
   },
   "cell_type": "code",
   "source": [
    "# Disable __grad based on assistant direction\n",
    "torch.set_grad_enabled(False)"
   ],
   "id": "5ccd2101c23e2da9",
   "outputs": [
    {
     "data": {
      "text/plain": [
       "<torch.autograd.grad_mode.set_grad_enabled at 0x153637260>"
      ]
     },
     "execution_count": 19,
     "metadata": {},
     "output_type": "execute_result"
    }
   ],
   "execution_count": 19
  },
  {
   "metadata": {},
   "cell_type": "markdown",
   "source": "# Pipeline for testing MNIST dataset",
   "id": "6c34fd47c03a7a52"
  },
  {
   "metadata": {
    "ExecuteTime": {
     "end_time": "2025-03-10T19:16:41.988512Z",
     "start_time": "2025-03-10T19:16:41.967310Z"
    }
   },
   "cell_type": "code",
   "source": [
    "# Const variables\n",
    "input_size = 784\n",
    "hidden_layers = 1\n",
    "output_size = 10\n",
    "learning_rate = 0.01\n",
    "param_1 = 0\n",
    "param_2 = 0.5"
   ],
   "id": "852d5247313debdf",
   "outputs": [],
   "execution_count": 4
  },
  {
   "metadata": {
    "ExecuteTime": {
     "end_time": "2025-03-10T19:04:52.398395Z",
     "start_time": "2025-03-10T19:04:52.396868Z"
    }
   },
   "cell_type": "code",
   "source": "",
   "id": "2eba7d3a6391ac3c",
   "outputs": [],
   "execution_count": null
  },
  {
   "metadata": {
    "ExecuteTime": {
     "end_time": "2025-03-10T19:16:43.997017Z",
     "start_time": "2025-03-10T19:16:42.993328Z"
    }
   },
   "cell_type": "code",
   "source": [
    "# Import Dataset\n",
    "train = pd.read_csv(\"data/train.csv\")"
   ],
   "id": "ed5d4ed564e62c86",
   "outputs": [],
   "execution_count": 5
  },
  {
   "metadata": {
    "ExecuteTime": {
     "end_time": "2025-03-10T19:27:41.088714Z",
     "start_time": "2025-03-10T19:27:40.488009Z"
    }
   },
   "cell_type": "code",
   "source": [
    "# Data Preprocessing\n",
    "data = np.array(train)\n",
    "m, n = data.shape\n",
    "np.random.shuffle(data)\n",
    "\n",
    "data_dev = data[0:1000].T\n",
    "Y_dev = data_dev[0]\n",
    "X_dev = data_dev[1:n]\n",
    "X_dev = X_dev / 255.\n",
    "\n",
    "data_train = data[1000:m].T\n",
    "Y_train = data_train[0]\n",
    "X_train = data_train[1:n]\n",
    "X_train = X_train / 255.\n",
    "_,m_train = X_train.shape\n",
    "X_train = X_train.T\n",
    "\n",
    "X_dev = X_dev.T"
   ],
   "id": "f1f0258415e2b31e",
   "outputs": [],
   "execution_count": 11
  },
  {
   "metadata": {
    "ExecuteTime": {
     "end_time": "2025-03-10T19:16:46.732882Z",
     "start_time": "2025-03-10T19:16:46.643074Z"
    }
   },
   "cell_type": "code",
   "source": [
    "# Initialize Artificial Neural Network\n",
    "ann = ArtificialNeuralNetwork(input_size, output_size, hidden_layers, 128, InitializerType.RANDOM_DIST_NORMAL, InitializerType.RANDOM_DIST_NORMAL, param_1, param_2, 0, ActivationFunction.sigmoid, LossFunction.mean_squared_error)"
   ],
   "id": "fa6ea97943bbfc96",
   "outputs": [],
   "execution_count": 7
  },
  {
   "metadata": {
    "jupyter": {
     "is_executing": true
    },
    "ExecuteTime": {
     "start_time": "2025-03-10T19:31:32.210516Z"
    }
   },
   "cell_type": "code",
   "source": [
    "# Train Artificial Neural Network\n",
    "ann.train(torch.tensor(X_train), torch.tensor(Y_train), learning_rate, 2, LossFunction.mean_squared_error, verbose = True)"
   ],
   "id": "19e428bf85e6d3bc",
   "outputs": [
    {
     "name": "stdout",
     "output_type": "stream",
     "text": [
      "Iter 1000 - Loss: 24.38998031616211\n",
      "Iter 2000 - Loss: 24.65520477294922\n",
      "Iter 3000 - Loss: 25.008344650268555\n",
      "Iter 4000 - Loss: 25.27569007873535\n",
      "Iter 5000 - Loss: 25.128097534179688\n",
      "Iter 6000 - Loss: 25.20092010498047\n"
     ]
    }
   ],
   "execution_count": null
  },
  {
   "metadata": {
    "ExecuteTime": {
     "end_time": "2025-03-10T19:28:15.778413Z",
     "start_time": "2025-03-10T19:28:15.044437Z"
    }
   },
   "cell_type": "code",
   "source": [
    "# Test Artificial Neural Network\n",
    "ann.test(torch.tensor(X_dev), torch.tensor(Y_dev), LossFunction.mean_squared_error)"
   ],
   "id": "aa429c6f4829613f",
   "outputs": [
    {
     "name": "stdout",
     "output_type": "stream",
     "text": [
      "Loss: 24.803794860839844\n"
     ]
    }
   ],
   "execution_count": 15
  }
 ],
 "metadata": {
  "kernelspec": {
   "display_name": "Python 3",
   "language": "python",
   "name": "python3"
  },
  "language_info": {
   "codemirror_mode": {
    "name": "ipython",
    "version": 2
   },
   "file_extension": ".py",
   "mimetype": "text/x-python",
   "name": "python",
   "nbconvert_exporter": "python",
   "pygments_lexer": "ipython2",
   "version": "2.7.6"
  }
 },
 "nbformat": 4,
 "nbformat_minor": 5
}
