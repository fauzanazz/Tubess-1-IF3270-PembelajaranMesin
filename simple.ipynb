{
 "cells": [
  {
   "metadata": {},
   "cell_type": "markdown",
   "source": "# Scratch Artificial Neural Network",
   "id": "8a77807f92f26ee"
  },
  {
   "metadata": {
    "ExecuteTime": {
     "end_time": "2025-03-10T18:15:30.777838Z",
     "start_time": "2025-03-10T18:15:30.774714Z"
    }
   },
   "cell_type": "code",
   "source": [
    "# Import libraries\n",
    "# External libraries\n",
    "import torch\n",
    "\n",
    "\n",
    "# Import Libraries\n",
    "import numpy as np\n",
    "import pandas as pd\n",
    "from ArtificialNeuralNetwork import ArtificialNeuralNetwork\n",
    "from Function import ActivationFunction, LossFunction\n",
    "from enums import InitializerType"
   ],
   "id": "7df9140457caed5e",
   "outputs": [],
   "execution_count": 39
  },
  {
   "metadata": {
    "ExecuteTime": {
     "end_time": "2025-03-10T18:15:30.789780Z",
     "start_time": "2025-03-10T18:15:30.786144Z"
    }
   },
   "cell_type": "code",
   "source": [
    "# Disable __grad based on assistant direction\n",
    "torch.set_grad_enabled(False)"
   ],
   "id": "5ccd2101c23e2da9",
   "outputs": [
    {
     "data": {
      "text/plain": [
       "<torch.autograd.grad_mode.set_grad_enabled at 0x16705d58320>"
      ]
     },
     "execution_count": 40,
     "metadata": {},
     "output_type": "execute_result"
    }
   ],
   "execution_count": 40
  },
  {
   "metadata": {},
   "cell_type": "markdown",
   "source": "# Pipeline for testing MNIST dataset",
   "id": "6c34fd47c03a7a52"
  },
  {
   "metadata": {
    "ExecuteTime": {
     "end_time": "2025-03-10T18:15:30.816767Z",
     "start_time": "2025-03-10T18:15:30.813620Z"
    }
   },
   "cell_type": "code",
   "source": [
    "# Const variables\n",
    "input_size = 784\n",
    "hidden_layers = 1\n",
    "output_size = 10\n",
    "learning_rate = 0.01\n",
    "param_1 = 0\n",
    "param_2 = 0.5"
   ],
   "id": "852d5247313debdf",
   "outputs": [],
   "execution_count": 41
  },
  {
   "metadata": {
    "ExecuteTime": {
     "end_time": "2025-03-10T18:15:30.820950Z",
     "start_time": "2025-03-10T18:15:30.819386Z"
    }
   },
   "cell_type": "code",
   "source": "",
   "id": "2eba7d3a6391ac3c",
   "outputs": [],
   "execution_count": null
  },
  {
   "metadata": {
    "ExecuteTime": {
     "end_time": "2025-03-10T18:15:31.976638Z",
     "start_time": "2025-03-10T18:15:30.832968Z"
    }
   },
   "cell_type": "code",
   "source": [
    "# Import Dataset\n",
    "train = pd.read_csv(\"data/train.csv\")"
   ],
   "id": "ed5d4ed564e62c86",
   "outputs": [],
   "execution_count": 42
  },
  {
   "metadata": {
    "ExecuteTime": {
     "end_time": "2025-03-10T18:15:32.379019Z",
     "start_time": "2025-03-10T18:15:31.989159Z"
    }
   },
   "cell_type": "code",
   "source": [
    "# Data Preprocessing\n",
    "data = np.array(train)\n",
    "m, n = data.shape\n",
    "np.random.shuffle(data)\n",
    "\n",
    "data_dev = data[0:1000].T\n",
    "Y_dev = data_dev[0]\n",
    "X_dev = data_dev[1:n]\n",
    "X_dev = X_dev / 255.\n",
    "\n",
    "data_train = data[1000:m].T\n",
    "Y_train = data_train[0]\n",
    "X_train = data_train[1:n]\n",
    "X_train = X_train / 255.\n",
    "_,m_train = X_train.shape\n",
    "X_train = X_train.T"
   ],
   "id": "f1f0258415e2b31e",
   "outputs": [],
   "execution_count": 43
  },
  {
   "metadata": {
    "ExecuteTime": {
     "end_time": "2025-03-10T18:15:32.405106Z",
     "start_time": "2025-03-10T18:15:32.394214Z"
    }
   },
   "cell_type": "code",
   "source": [
    "# Initialize Artificial Neural Network\n",
    "ann = ArtificialNeuralNetwork(input_size, output_size, hidden_layers, 128, InitializerType.RANDOM_DIST_NORMAL, InitializerType.RANDOM_DIST_NORMAL, param_1, param_2, 0, ActivationFunction.sigmoid, LossFunction.mean_squared_error)"
   ],
   "id": "fa6ea97943bbfc96",
   "outputs": [],
   "execution_count": 44
  },
  {
   "metadata": {
    "ExecuteTime": {
     "end_time": "2025-03-10T18:17:38.521358Z",
     "start_time": "2025-03-10T18:15:32.417058Z"
    }
   },
   "cell_type": "code",
   "source": [
    "# Train Artificial Neural Network\n",
    "ann.train(torch.tensor(X_train), torch.tensor(Y_train), learning_rate, 2, LossFunction.mean_squared_error, verbose = True)"
   ],
   "id": "19e428bf85e6d3bc",
   "outputs": [
    {
     "name": "stdout",
     "output_type": "stream",
     "text": [
      "Iter 1000 - Loss: 69.10001373291016\n",
      "Iter 2000 - Loss: 0.6999931931495667\n",
      "Iter 3000 - Loss: 28.300018310546875\n",
      "Iter 4000 - Loss: 19.599355697631836\n",
      "Iter 5000 - Loss: 29.399738311767578\n",
      "Iter 6000 - Loss: 72.47111511230469\n",
      "Iter 7000 - Loss: 72.38352966308594\n",
      "Iter 8000 - Loss: 12.440323829650879\n",
      "Iter 9000 - Loss: 42.45436096191406\n"
     ]
    },
    {
     "ename": "KeyboardInterrupt",
     "evalue": "",
     "output_type": "error",
     "traceback": [
      "\u001B[1;31m---------------------------------------------------------------------------\u001B[0m",
      "\u001B[1;31mKeyboardInterrupt\u001B[0m                         Traceback (most recent call last)",
      "Cell \u001B[1;32mIn[45], line 2\u001B[0m\n\u001B[0;32m      1\u001B[0m \u001B[38;5;66;03m# Train Artificial Neural Network\u001B[39;00m\n\u001B[1;32m----> 2\u001B[0m ann\u001B[38;5;241m.\u001B[39mtrain(torch\u001B[38;5;241m.\u001B[39mtensor(X_train), torch\u001B[38;5;241m.\u001B[39mtensor(Y_train), learning_rate, \u001B[38;5;241m2\u001B[39m, LossFunction\u001B[38;5;241m.\u001B[39mmean_squared_error, verbose \u001B[38;5;241m=\u001B[39m \u001B[38;5;28;01mTrue\u001B[39;00m)\n",
      "File \u001B[1;32mD:\\Code\\Python\\Tubess-1-IF3270-PembelajaranMesin\\ArtificialNeuralNetwork.py:53\u001B[0m, in \u001B[0;36mArtificialNeuralNetwork.train\u001B[1;34m(self, x, y, lr, epochs, loss_func, verbose)\u001B[0m\n\u001B[0;32m     51\u001B[0m \u001B[38;5;28miter\u001B[39m \u001B[38;5;241m=\u001B[39m \u001B[38;5;241m1\u001B[39m\n\u001B[0;32m     52\u001B[0m \u001B[38;5;28;01mfor\u001B[39;00m x_input, y_input \u001B[38;5;129;01min\u001B[39;00m \u001B[38;5;28mzip\u001B[39m(x, y):\n\u001B[1;32m---> 53\u001B[0m     y_pred \u001B[38;5;241m=\u001B[39m \u001B[38;5;28mself\u001B[39m\u001B[38;5;241m.\u001B[39mforward(x_input)\n\u001B[0;32m     54\u001B[0m     loss \u001B[38;5;241m=\u001B[39m loss_func(y_pred, y_input)\n\u001B[0;32m     55\u001B[0m     \u001B[38;5;28mself\u001B[39m\u001B[38;5;241m.\u001B[39mtarget_min_output \u001B[38;5;241m=\u001B[39m Utils\u001B[38;5;241m.\u001B[39moutput_minus_target(y_pred, y_input)\n",
      "File \u001B[1;32mD:\\Code\\Python\\Tubess-1-IF3270-PembelajaranMesin\\ArtificialNeuralNetwork.py:28\u001B[0m, in \u001B[0;36mArtificialNeuralNetwork.forward\u001B[1;34m(self, x)\u001B[0m\n\u001B[0;32m     26\u001B[0m \u001B[38;5;28;01mdef\u001B[39;00m \u001B[38;5;21mforward\u001B[39m(\u001B[38;5;28mself\u001B[39m, x):\n\u001B[0;32m     27\u001B[0m     \u001B[38;5;28;01mfor\u001B[39;00m layer \u001B[38;5;129;01min\u001B[39;00m \u001B[38;5;28mself\u001B[39m\u001B[38;5;241m.\u001B[39mlayers:\n\u001B[1;32m---> 28\u001B[0m         x \u001B[38;5;241m=\u001B[39m layer\u001B[38;5;241m.\u001B[39mforward(x)\n\u001B[0;32m     29\u001B[0m     \u001B[38;5;28;01mreturn\u001B[39;00m x\n",
      "File \u001B[1;32mD:\\Code\\Python\\Tubess-1-IF3270-PembelajaranMesin\\Layer\\Layer.py:35\u001B[0m, in \u001B[0;36mLayer.forward\u001B[1;34m(self, x)\u001B[0m\n\u001B[0;32m     34\u001B[0m \u001B[38;5;28;01mdef\u001B[39;00m \u001B[38;5;21mforward\u001B[39m(\u001B[38;5;28mself\u001B[39m, x):\n\u001B[1;32m---> 35\u001B[0m     \u001B[38;5;28mself\u001B[39m\u001B[38;5;241m.\u001B[39msum \u001B[38;5;241m=\u001B[39m torch\u001B[38;5;241m.\u001B[39mstack([neuron\u001B[38;5;241m.\u001B[39mforward(x) \u001B[38;5;28;01mfor\u001B[39;00m neuron \u001B[38;5;129;01min\u001B[39;00m \u001B[38;5;28mself\u001B[39m\u001B[38;5;241m.\u001B[39mneurons])\n\u001B[0;32m     36\u001B[0m     \u001B[38;5;28mself\u001B[39m\u001B[38;5;241m.\u001B[39moutput \u001B[38;5;241m=\u001B[39m \u001B[38;5;28mself\u001B[39m\u001B[38;5;241m.\u001B[39mactivation_func(\u001B[38;5;28mself\u001B[39m\u001B[38;5;241m.\u001B[39msum)\n\u001B[0;32m     37\u001B[0m     \u001B[38;5;28;01mreturn\u001B[39;00m \u001B[38;5;28mself\u001B[39m\u001B[38;5;241m.\u001B[39moutput\n",
      "\u001B[1;31mKeyboardInterrupt\u001B[0m: "
     ]
    }
   ],
   "execution_count": 45
  }
 ],
 "metadata": {
  "kernelspec": {
   "display_name": "Python 3",
   "language": "python",
   "name": "python3"
  },
  "language_info": {
   "codemirror_mode": {
    "name": "ipython",
    "version": 2
   },
   "file_extension": ".py",
   "mimetype": "text/x-python",
   "name": "python",
   "nbconvert_exporter": "python",
   "pygments_lexer": "ipython2",
   "version": "2.7.6"
  }
 },
 "nbformat": 4,
 "nbformat_minor": 5
}
