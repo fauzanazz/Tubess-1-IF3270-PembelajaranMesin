{
 "cells": [
  {
   "cell_type": "markdown",
   "id": "8a77807f92f26ee",
   "metadata": {},
   "source": [
    "# Scratch Artificial Neural Network"
   ]
  },
  {
   "cell_type": "code",
   "id": "b32c4145c30d89a5",
   "metadata": {
    "ExecuteTime": {
     "end_time": "2025-03-28T13:14:08.438109Z",
     "start_time": "2025-03-28T13:14:08.376008Z"
    }
   },
   "source": [
    "%load_ext autoreload\n",
    "%autoreload 2"
   ],
   "outputs": [],
   "execution_count": 1
  },
  {
   "cell_type": "code",
   "id": "7df9140457caed5e",
   "metadata": {
    "ExecuteTime": {
     "end_time": "2025-03-28T13:19:17.076639Z",
     "start_time": "2025-03-28T13:19:17.050938Z"
    }
   },
   "source": [
    "import sys\n",
    "sys.dont_write_bytecode = True\n",
    "\n",
    "# Import libraries\n",
    "import numpy as np\n",
    "from sklearn.datasets import fetch_openml\n",
    "from sklearn.model_selection import train_test_split\n",
    "\n",
    "# Import custom modules\n",
    "from ArtificialNeuralNetwork import ArtificialNeuralNetwork\n",
    "from Layer import Layer, OutputLayer, InputLayer\n",
    "from Function import ActivationFunction, LossFunction\n",
    "from enums import InitializerType, RegularizationType"
   ],
   "outputs": [],
   "execution_count": 15
  },
  {
   "cell_type": "markdown",
   "id": "6c34fd47c03a7a52",
   "metadata": {},
   "source": [
    "# Pipeline for testing MNIST dataset"
   ]
  },
  {
   "cell_type": "code",
   "id": "852d5247313debdf",
   "metadata": {
    "ExecuteTime": {
     "end_time": "2025-03-28T13:14:14.186820Z",
     "start_time": "2025-03-28T13:14:14.154582Z"
    }
   },
   "source": [
    "input_size = 784\n",
    "hidden_layers = 2\n",
    "hidden_size = 128\n",
    "output_size = 10\n",
    "learning_rate = 0.01\n",
    "param_1 = 0\n",
    "param_2 = 0\n",
    "batch_size = 64"
   ],
   "outputs": [],
   "execution_count": 3
  },
  {
   "metadata": {
    "ExecuteTime": {
     "end_time": "2025-03-28T13:14:23.948909Z",
     "start_time": "2025-03-28T13:14:20.530633Z"
    }
   },
   "cell_type": "code",
   "source": [
    "# Load MNIST dataset using fetch_openml\n",
    "X, y = fetch_openml('mnist_784', version=1, return_X_y=True, as_frame=False)\n",
    "X = X / 255.0\n",
    "y = y.astype(int)\n",
    "\n",
    "\n",
    "# Split into train and test sets\n",
    "X_train, X_test, y_train, y_test = train_test_split(\n",
    "    X, y, test_size=0.2, random_state=42,\n",
    ")"
   ],
   "id": "64007baf6bf48e8f",
   "outputs": [],
   "execution_count": 4
  },
  {
   "metadata": {
    "ExecuteTime": {
     "end_time": "2025-03-28T13:22:37.948724Z",
     "start_time": "2025-03-28T13:22:37.888955Z"
    }
   },
   "cell_type": "code",
   "source": [
    "ann = ArtificialNeuralNetwork(\n",
    "        123,\n",
    "        InputLayer(input_size=input_size),\n",
    "        Layer(\n",
    "            weight_init=InitializerType.HE,\n",
    "            bias_init=InitializerType.ZERO,\n",
    "            input_size=input_size,\n",
    "            num_neurons=128,\n",
    "            param_1=param_1,\n",
    "            param_2=param_2,\n",
    "            activation=ActivationFunction.relu,\n",
    "            regularizer=RegularizationType.L2,\n",
    "            alpha=0.45,\n",
    "            layer_name=f\"Hidden Layer 0\",\n",
    "        ),\n",
    "        *[Layer(\n",
    "            weight_init=InitializerType.HE,\n",
    "            bias_init=InitializerType.ZERO,\n",
    "            input_size=128,\n",
    "            num_neurons=128,\n",
    "            param_1=param_1,\n",
    "            param_2=param_2,\n",
    "            activation=ActivationFunction.relu,\n",
    "            regularizer=RegularizationType.L2,\n",
    "            alpha=0.45,\n",
    "            layer_name=f\"Hidden Layer {_}\",\n",
    "        ) for _ in range(hidden_layers - 1)],\n",
    "        OutputLayer(\n",
    "            weight_init=InitializerType.HE,\n",
    "            bias_init=InitializerType.ZERO,\n",
    "            input_size=128,\n",
    "            num_neurons=output_size,\n",
    "            param_1=param_1,\n",
    "            param_2=param_2,\n",
    "            activation=ActivationFunction.softmax,\n",
    "            regularizer=RegularizationType.L2,\n",
    "            loss_funct=LossFunction.categorical_cross_entropy,\n",
    "            layer_name=\"Output Layer\"\n",
    "        )\n",
    "    )"
   ],
   "id": "43fa17185f77d3b1",
   "outputs": [],
   "execution_count": 22
  },
  {
   "metadata": {
    "ExecuteTime": {
     "end_time": "2025-03-28T13:23:10.793221Z",
     "start_time": "2025-03-28T13:22:39.592624Z"
    }
   },
   "cell_type": "code",
   "source": [
    "ann.train(\n",
    "    x=X_train,\n",
    "    y=y_train,\n",
    "    loss_function=LossFunction.categorical_cross_entropy,\n",
    "    lr=learning_rate,\n",
    "    epochs=50,\n",
    "    batch_size=batch_size,\n",
    "    verbose=True,\n",
    "    validation_data=(X_test, y_test),\n",
    ")"
   ],
   "id": "d450061c5a5c292f",
   "outputs": [
    {
     "name": "stderr",
     "output_type": "stream",
     "text": [
      "Training: 100%|██████████| 50/50 [00:31<00:00,  1.60it/s, Loss: 3.0221, Val Loss: 3.0069] "
     ]
    },
    {
     "name": "stdout",
     "output_type": "stream",
     "text": [
      "Total training time: 29.61s\n"
     ]
    },
    {
     "name": "stderr",
     "output_type": "stream",
     "text": [
      "\n"
     ]
    },
    {
     "data": {
      "text/plain": [
       "([14.271013727192686,\n",
       "  13.457879741085218,\n",
       "  12.289397834023807,\n",
       "  10.893707688847577,\n",
       "  9.539154696805754,\n",
       "  8.402777233802116,\n",
       "  7.508017112600149,\n",
       "  6.820844396294647,\n",
       "  6.283807315592826,\n",
       "  5.858227764303671,\n",
       "  5.505362859946114,\n",
       "  5.223636801044512,\n",
       "  4.9823501199831846,\n",
       "  4.78563946071539,\n",
       "  4.603659493859923,\n",
       "  4.457127227865101,\n",
       "  4.324425496951371,\n",
       "  4.210620616025416,\n",
       "  4.108504747159051,\n",
       "  4.012240248172466,\n",
       "  3.9304750826745467,\n",
       "  3.8590991773334964,\n",
       "  3.7892115606999295,\n",
       "  3.729156504472447,\n",
       "  3.6752026152666297,\n",
       "  3.619053808136341,\n",
       "  3.5722378896646294,\n",
       "  3.5304864760598047,\n",
       "  3.4934548787817423,\n",
       "  3.451952698930864,\n",
       "  3.4145058383074427,\n",
       "  3.381964235171846,\n",
       "  3.3504289762499995,\n",
       "  3.3208237394131386,\n",
       "  3.2958043758282396,\n",
       "  3.2732236650269924,\n",
       "  3.242986240801671,\n",
       "  3.219693122636524,\n",
       "  3.2005156183259658,\n",
       "  3.177037903822652,\n",
       "  3.1627521011263724,\n",
       "  3.13983363318172,\n",
       "  3.1216005034405803,\n",
       "  3.109120236154759,\n",
       "  3.090753224868757,\n",
       "  3.0747934819987526,\n",
       "  3.059302595932963,\n",
       "  3.0447365218772817,\n",
       "  3.0329101938229655,\n",
       "  3.0220707313564765],\n",
       " [13.926047077644604,\n",
       "  12.933554843619458,\n",
       "  11.601851553174331,\n",
       "  10.174065472231737,\n",
       "  8.90565849750175,\n",
       "  7.890856355602737,\n",
       "  7.108010410964165,\n",
       "  6.504221543095415,\n",
       "  6.030691457058634,\n",
       "  5.642646192371504,\n",
       "  5.332616937327101,\n",
       "  5.072088297266607,\n",
       "  4.854407099237595,\n",
       "  4.666475552824285,\n",
       "  4.5073743287541195,\n",
       "  4.368877741944472,\n",
       "  4.24777580983013,\n",
       "  4.139221437417667,\n",
       "  4.039327028090599,\n",
       "  3.9549907250029106,\n",
       "  3.8765127342205097,\n",
       "  3.806806810911976,\n",
       "  3.743311853577325,\n",
       "  3.6828035639862056,\n",
       "  3.629243420929756,\n",
       "  3.582193814118817,\n",
       "  3.5364666501454005,\n",
       "  3.4951599364288715,\n",
       "  3.456237564394657,\n",
       "  3.4218682076921603,\n",
       "  3.388149804222018,\n",
       "  3.356461194514899,\n",
       "  3.325634251736226,\n",
       "  3.2991519693166755,\n",
       "  3.270790051883776,\n",
       "  3.2488420355484537,\n",
       "  3.2239142171455133,\n",
       "  3.203327503316046,\n",
       "  3.178959466120963,\n",
       "  3.160840395728361,\n",
       "  3.143050878324233,\n",
       "  3.1226907581427628,\n",
       "  3.1092623335749607,\n",
       "  3.0916798401592613,\n",
       "  3.0771781920151127,\n",
       "  3.0633184540357052,\n",
       "  3.0471301452844926,\n",
       "  3.032167664548705,\n",
       "  3.0194144001510344,\n",
       "  3.006929225349842])"
      ]
     },
     "execution_count": 23,
     "metadata": {},
     "output_type": "execute_result"
    }
   ],
   "execution_count": 23
  },
  {
   "metadata": {
    "ExecuteTime": {
     "end_time": "2025-03-28T13:24:39.126050Z",
     "start_time": "2025-03-28T13:24:39.037206Z"
    }
   },
   "cell_type": "code",
   "source": [
    "from sklearn.metrics import f1_score\n",
    "\n",
    "y_pred = ann.predict(X_test)\n",
    "print(f\"F1 Score: {f1_score(y_test, y_pred, average='macro')}\")"
   ],
   "id": "392227228fc2a37f",
   "outputs": [
    {
     "name": "stdout",
     "output_type": "stream",
     "text": [
      "F1 Score: 0.9119588432912472\n"
     ]
    }
   ],
   "execution_count": 24
  },
  {
   "metadata": {
    "ExecuteTime": {
     "end_time": "2025-03-28T12:55:25.428216Z",
     "start_time": "2025-03-28T12:55:25.246951Z"
    }
   },
   "cell_type": "code",
   "source": "ann.visualize_weight_distribution((1,2,3))",
   "id": "e7974958a0fa0630",
   "outputs": [
    {
     "data": {
      "text/plain": [
       "<Figure size 600x400 with 1 Axes>"
      ],
      "image/png": "[encoded data removed]"
     },
     "metadata": {},
     "output_type": "display_data"
    },
    {
     "data": {
      "text/plain": [
       "<Figure size 600x400 with 1 Axes>"
      ],
      "image/png": "[encoded data removed]"
     },
     "metadata": {},
     "output_type": "display_data"
    },
    {
     "data": {
      "text/plain": [
       "<Figure size 600x400 with 1 Axes>"
      ],
      "image/png": "[encoded data removed]"
     },
     "metadata": {},
     "output_type": "display_data"
    }
   ],
   "execution_count": 8
  },
  {
   "metadata": {
    "ExecuteTime": {
     "end_time": "2025-03-28T12:55:25.562322Z",
     "start_time": "2025-03-28T12:55:25.436748Z"
    }
   },
   "cell_type": "code",
   "source": "ann.save(\"ann_model.pkl\")",
   "id": "33f52e18ff0e9efb",
   "outputs": [
    {
     "name": "stdout",
     "output_type": "stream",
     "text": [
      "Model saved to models/ann_model.pkl\n"
     ]
    }
   ],
   "execution_count": 9
  },
  {
   "metadata": {
    "ExecuteTime": {
     "end_time": "2025-03-28T12:55:25.594907Z",
     "start_time": "2025-03-28T12:55:25.581308Z"
    }
   },
   "cell_type": "code",
   "source": "new_model = ArtificialNeuralNetwork()",
   "id": "251f8cd600bb973e",
   "outputs": [],
   "execution_count": 10
  },
  {
   "cell_type": "code",
   "id": "ccdd8bbc",
   "metadata": {
    "ExecuteTime": {
     "end_time": "2025-03-28T12:55:25.703819Z",
     "start_time": "2025-03-28T12:55:25.599737Z"
    }
   },
   "source": [
    "new_model.load(\"ann_model.pkl\")"
   ],
   "outputs": [
    {
     "name": "stdout",
     "output_type": "stream",
     "text": [
      "Model loaded from models/ann_model.pkl\n"
     ]
    }
   ],
   "execution_count": 11
  },
  {
   "metadata": {
    "ExecuteTime": {
     "end_time": "2025-03-28T12:55:25.754737Z",
     "start_time": "2025-03-28T12:55:25.711889Z"
    }
   },
   "cell_type": "code",
   "source": "new_model.evaluate(X_test, y_test)",
   "id": "80aa99ef865a4376",
   "outputs": [
    {
     "data": {
      "text/plain": [
       "np.float64(0.9238571428571428)"
      ]
     },
     "execution_count": 12,
     "metadata": {},
     "output_type": "execute_result"
    }
   ],
   "execution_count": 12
  },
  {
   "metadata": {
    "ExecuteTime": {
     "end_time": "2025-03-28T13:25:16.706178Z",
     "start_time": "2025-03-28T13:24:50.956866Z"
    }
   },
   "cell_type": "code",
   "source": [
    "# Compare with MLP\n",
    "\n",
    "from sklearn.neural_network import MLPClassifier\n",
    "\n",
    "# Comparison with scikit-learn MLP (using ReLU instead of PReLU)\n",
    "model = MLPClassifier(\n",
    "    hidden_layer_sizes=(128, 128),\n",
    "    activation='relu',\n",
    "    solver='sgd',\n",
    "    max_iter=50,\n",
    "    batch_size=batch_size,\n",
    "    random_state=123,\n",
    "    verbose=True,\n",
    "    learning_rate_init=0.01,\n",
    "    learning_rate='constant',\n",
    "    tol=0.0\n",
    ")\n",
    "\n",
    "# Train the model\n",
    "model.fit(X_train, y_train)\n",
    "\n",
    "# Make predictions\n",
    "y_pred = model.predict(X_test)\n",
    "\n",
    "# Evaluate the model\n",
    "print(\"F1 Score: \", f1_score(y_test, y_pred, average='macro'))"
   ],
   "id": "1f8431feb19aeef0",
   "outputs": [
    {
     "name": "stdout",
     "output_type": "stream",
     "text": [
      "Iteration 1, loss = 0.48440249\n",
      "Iteration 2, loss = 0.21901139\n",
      "Iteration 3, loss = 0.16486152\n",
      "Iteration 4, loss = 0.13181580\n",
      "Iteration 5, loss = 0.11065365\n",
      "Iteration 6, loss = 0.09405129\n",
      "Iteration 7, loss = 0.08190933\n",
      "Iteration 8, loss = 0.07222130\n",
      "Iteration 9, loss = 0.06426376\n",
      "Iteration 10, loss = 0.05844841\n",
      "Iteration 11, loss = 0.05193848\n",
      "Iteration 12, loss = 0.04684660\n",
      "Iteration 13, loss = 0.04230466\n",
      "Iteration 14, loss = 0.03825414\n",
      "Iteration 15, loss = 0.03470303\n",
      "Iteration 16, loss = 0.03151143\n",
      "Iteration 17, loss = 0.02790935\n",
      "Iteration 18, loss = 0.02604815\n",
      "Iteration 19, loss = 0.02311515\n",
      "Iteration 20, loss = 0.02142717\n",
      "Iteration 21, loss = 0.01896225\n",
      "Iteration 22, loss = 0.01744021\n",
      "Iteration 23, loss = 0.01611057\n",
      "Iteration 24, loss = 0.01449083\n",
      "Iteration 25, loss = 0.01339546\n",
      "Iteration 26, loss = 0.01217621\n",
      "Iteration 27, loss = 0.01096214\n",
      "Iteration 28, loss = 0.01011963\n",
      "Iteration 29, loss = 0.00906160\n",
      "Iteration 30, loss = 0.00865255\n",
      "Iteration 31, loss = 0.00756095\n",
      "Iteration 32, loss = 0.00705153\n",
      "Iteration 33, loss = 0.00648242\n",
      "Iteration 34, loss = 0.00597990\n",
      "Iteration 35, loss = 0.00552883\n",
      "Iteration 36, loss = 0.00511061\n",
      "Iteration 37, loss = 0.00469668\n",
      "Iteration 38, loss = 0.00439194\n",
      "Iteration 39, loss = 0.00418422\n",
      "Iteration 40, loss = 0.00389512\n",
      "Iteration 41, loss = 0.00361378\n",
      "Iteration 42, loss = 0.00344304\n",
      "Iteration 43, loss = 0.00322184\n",
      "Iteration 44, loss = 0.00309712\n",
      "Iteration 45, loss = 0.00297593\n",
      "Iteration 46, loss = 0.00283733\n",
      "Iteration 47, loss = 0.00268255\n",
      "Iteration 48, loss = 0.00252374\n",
      "Iteration 49, loss = 0.00248102\n",
      "Iteration 50, loss = 0.00236061\n",
      "F1 Score:  0.9756993370033491\n"
     ]
    },
    {
     "name": "stderr",
     "output_type": "stream",
     "text": [
      "/Users/mfauzanazhim/Github/Tubess-1-IF3270-PembelajaranMesin/.venv/lib/python3.12/site-packages/sklearn/neural_network/_multilayer_perceptron.py:691: ConvergenceWarning: Stochastic Optimizer: Maximum iterations (50) reached and the optimization hasn't converged yet.\n",
      "  warnings.warn(\n"
     ]
    }
   ],
   "execution_count": 25
  }
 ],
 "metadata": {
  "kernelspec": {
   "display_name": "Python 3",
   "language": "python",
   "name": "python3"
  },
  "language_info": {
   "codemirror_mode": {
    "name": "ipython",
    "version": 3
   },
   "file_extension": ".py",
   "mimetype": "text/x-python",
   "name": "python",
   "nbconvert_exporter": "python",
   "pygments_lexer": "ipython3",
   "version": "3.13.2"
  }
 },
 "nbformat": 4,
 "nbformat_minor": 5
}
