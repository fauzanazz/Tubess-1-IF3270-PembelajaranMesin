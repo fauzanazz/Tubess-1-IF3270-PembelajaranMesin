{
 "cells": [
  {
   "cell_type": "markdown",
   "id": "8a77807f92f26ee",
   "metadata": {},
   "source": [
    "# Scratch Artificial Neural Network"
   ]
  },
  {
   "cell_type": "code",
   "id": "b32c4145c30d89a5",
   "metadata": {},
   "source": [
    "%load_ext autoreload\n",
    "%autoreload 2"
   ],
   "outputs": [],
   "execution_count": null
  },
  {
   "cell_type": "code",
   "id": "7df9140457caed5e",
   "metadata": {},
   "source": [
    "import sys\n",
    "sys.dont_write_bytecode = True\n",
    "\n",
    "# Import libraries\n",
    "import numpy as np\n",
    "from sklearn.datasets import fetch_openml\n",
    "from sklearn.model_selection import train_test_split\n",
    "\n",
    "# Import custom modules\n",
    "from ArtificialNeuralNetwork import ArtificialNeuralNetwork\n",
    "from Layer import Layer, OutputLayer, InputLayer\n",
    "from Function import ActivationFunction, LossFunction, AdaptiveOptimizer\n",
    "from enums import InitializerType, RegularizationType"
   ],
   "outputs": [],
   "execution_count": null
  },
  {
   "cell_type": "markdown",
   "id": "6c34fd47c03a7a52",
   "metadata": {},
   "source": [
    "# Pipeline for testing MNIST dataset"
   ]
  },
  {
   "cell_type": "code",
   "id": "852d5247313debdf",
   "metadata": {},
   "source": [
    "input_size = 784\n",
    "hidden_layers = 2\n",
    "hidden_size = 128\n",
    "output_size = 10\n",
    "learning_rate = 0.001\n",
    "param_1 = 0\n",
    "param_2 = 0\n",
    "batch_size = 64"
   ],
   "outputs": [],
   "execution_count": null
  },
  {
   "metadata": {},
   "cell_type": "code",
   "source": [
    "# Load MNIST dataset using fetch_openml\n",
    "X, y = fetch_openml('mnist_784', version=1, return_X_y=True, as_frame=False)\n",
    "X = X / 255.0\n",
    "y = y.astype(int)\n",
    "\n",
    "\n",
    "# Split into train and test sets\n",
    "X_train, X_test, y_train, y_test = train_test_split(\n",
    "    X, y, test_size=0.2, random_state=42,\n",
    ")"
   ],
   "id": "64007baf6bf48e8f",
   "outputs": [],
   "execution_count": null
  },
  {
   "metadata": {},
   "cell_type": "code",
   "source": [
    "ann = ArtificialNeuralNetwork(\n",
    "        123,\n",
    "        InputLayer(input_size=input_size),\n",
    "        Layer(\n",
    "            weight_init=InitializerType.HE,\n",
    "            bias_init=InitializerType.ZERO,\n",
    "            input_size=input_size,\n",
    "            num_neurons=128,\n",
    "            param_1=param_1,\n",
    "            param_2=param_2,\n",
    "            activation=ActivationFunction.prelu,\n",
    "            regularizer=RegularizationType.L2,\n",
    "            optimizer=\"sgd\",\n",
    "            alpha=0.45,\n",
    "            gamma=0.95,\n",
    "            layer_name=f\"Hidden Layer 0\",\n",
    "        ),\n",
    "        *[Layer(\n",
    "            weight_init=InitializerType.HE,\n",
    "            bias_init=InitializerType.ZERO,\n",
    "            input_size=128,\n",
    "            num_neurons=128,\n",
    "            param_1=param_1,\n",
    "            param_2=param_2,\n",
    "            activation=ActivationFunction.prelu,\n",
    "            regularizer=RegularizationType.L2,\n",
    "            optimizer=\"sgd\",\n",
    "            alpha=0.45,\n",
    "            gamma=0.95,\n",
    "            layer_name=f\"Hidden Layer {_}\",\n",
    "        ) for _ in range(hidden_layers - 1)],\n",
    "        OutputLayer(\n",
    "            weight_init=InitializerType.HE,\n",
    "            bias_init=InitializerType.ZERO,\n",
    "            input_size=128,\n",
    "            num_neurons=output_size,\n",
    "            param_1=param_1,\n",
    "            param_2=param_2,\n",
    "            activation=ActivationFunction.softmax,\n",
    "            regularizer=RegularizationType.L2,\n",
    "            optimizer=\"sgd\",\n",
    "            loss_funct=LossFunction.categorical_cross_entropy,\n",
    "            layer_name=\"Output Layer\"\n",
    "        )\n",
    "    )"
   ],
   "id": "43fa17185f77d3b1",
   "outputs": [],
   "execution_count": null
  },
  {
   "metadata": {},
   "cell_type": "code",
   "source": [
    "ann.train(\n",
    "    x=X_train,\n",
    "    y=y_train,\n",
    "    loss_function=LossFunction.categorical_cross_entropy,\n",
    "    lr=learning_rate,\n",
    "    epochs=50,\n",
    "    batch_size=batch_size,\n",
    "    verbose=True,\n",
    "    validation_data=(X_test, y_test),\n",
    "    useRMSProp=False\n",
    ")"
   ],
   "id": "d450061c5a5c292f",
   "outputs": [],
   "execution_count": null
  },
  {
   "metadata": {},
   "cell_type": "code",
   "source": [
    "from sklearn.metrics import f1_score\n",
    "\n",
    "y_pred = ann.predict(X_test)\n",
    "print(f\"F1 Score: {f1_score(y_test, y_pred, average='macro')}\")"
   ],
   "id": "392227228fc2a37f",
   "outputs": [],
   "execution_count": null
  },
  {
   "metadata": {},
   "cell_type": "code",
   "source": "ann.visualize_weight_distribution((1,2,3))",
   "id": "e7974958a0fa0630",
   "outputs": [],
   "execution_count": null
  },
  {
   "metadata": {},
   "cell_type": "code",
   "source": "ann.save(\"ann_model.pkl\")",
   "id": "33f52e18ff0e9efb",
   "outputs": [],
   "execution_count": null
  },
  {
   "metadata": {},
   "cell_type": "code",
   "source": "new_model = ArtificialNeuralNetwork()",
   "id": "251f8cd600bb973e",
   "outputs": [],
   "execution_count": null
  },
  {
   "cell_type": "code",
   "id": "ccdd8bbc",
   "metadata": {},
   "source": [
    "new_model.load(\"ann_model.pkl\")"
   ],
   "outputs": [],
   "execution_count": null
  },
  {
   "metadata": {},
   "cell_type": "code",
   "source": "new_model.evaluate(X_test, y_test)",
   "id": "80aa99ef865a4376",
   "outputs": [],
   "execution_count": null
  },
  {
   "metadata": {},
   "cell_type": "code",
   "source": [
    "# Compare with MLP\n",
    "\n",
    "from sklearn.neural_network import MLPClassifier\n",
    "\n",
    "# Comparison with scikit-learn MLP (using ReLU instead of PReLU)\n",
    "model = MLPClassifier(\n",
    "    hidden_layer_sizes=(128, 128),\n",
    "    activation='relu',\n",
    "    solver='sgd',\n",
    "    max_iter=50,\n",
    "    batch_size=batch_size,\n",
    "    random_state=123,\n",
    "    verbose=True,\n",
    "    learning_rate_init=0.01,\n",
    "    learning_rate='constant',\n",
    "    tol=0.0\n",
    ")\n",
    "\n",
    "# Train the model\n",
    "model.fit(X_train, y_train)\n",
    "\n",
    "# Make predictions\n",
    "y_pred = model.predict(X_test)\n",
    "\n",
    "# Evaluate the model\n",
    "print(\"F1 Score: \", f1_score(y_test, y_pred, average='macro'))"
   ],
   "id": "1f8431feb19aeef0",
   "outputs": [],
   "execution_count": null
  }
 ],
 "metadata": {
  "kernelspec": {
   "display_name": "Python 3",
   "language": "python",
   "name": "python3"
  },
  "language_info": {
   "codemirror_mode": {
    "name": "ipython",
    "version": 3
   },
   "file_extension": ".py",
   "mimetype": "text/x-python",
   "name": "python",
   "nbconvert_exporter": "python",
   "pygments_lexer": "ipython3",
   "version": "3.13.2"
  }
 },
 "nbformat": 4,
 "nbformat_minor": 5
}
