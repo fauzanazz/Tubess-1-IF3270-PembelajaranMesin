{
 "cells": [
  {
   "cell_type": "markdown",
   "id": "8a77807f92f26ee",
   "metadata": {},
   "source": [
    "# Scratch Artificial Neural Network"
   ]
  },
  {
   "cell_type": "code",
   "id": "b32c4145c30d89a5",
   "metadata": {
    "ExecuteTime": {
     "end_time": "2025-03-27T21:24:49.854186Z",
     "start_time": "2025-03-27T21:24:49.783552Z"
    }
   },
   "source": [
    "%load_ext autoreload\n",
    "%autoreload 2"
   ],
   "outputs": [],
   "execution_count": 1
  },
  {
   "cell_type": "code",
   "id": "7df9140457caed5e",
   "metadata": {
    "ExecuteTime": {
     "end_time": "2025-03-27T21:24:52.172523Z",
     "start_time": "2025-03-27T21:24:49.857911Z"
    }
   },
   "source": [
    "import sys\n",
    "sys.dont_write_bytecode = True\n",
    "\n",
    "# Import libraries\n",
    "import numpy as np\n",
    "from sklearn.datasets import fetch_openml\n",
    "from sklearn.model_selection import train_test_split\n",
    "\n",
    "# Import custom modules\n",
    "from ArtificialNeuralNetwork import ArtificialNeuralNetwork\n",
    "from Layer import Layer, OutputLayer\n",
    "from Function import ActivationFunction, LossFunction\n",
    "from enums import InitializerType"
   ],
   "outputs": [
    {
     "name": "stderr",
     "output_type": "stream",
     "text": [
      "/Users/mfauzanazhim/Github/Tubess-1-IF3270-PembelajaranMesin/.venv/lib/python3.12/site-packages/tqdm/auto.py:21: TqdmWarning: IProgress not found. Please update jupyter and ipywidgets. See https://ipywidgets.readthedocs.io/en/stable/user_install.html\n",
      "  from .autonotebook import tqdm as notebook_tqdm\n"
     ]
    }
   ],
   "execution_count": 2
  },
  {
   "cell_type": "markdown",
   "id": "6c34fd47c03a7a52",
   "metadata": {},
   "source": [
    "# Pipeline for testing MNIST dataset"
   ]
  },
  {
   "cell_type": "code",
   "id": "852d5247313debdf",
   "metadata": {
    "ExecuteTime": {
     "end_time": "2025-03-27T21:24:52.261818Z",
     "start_time": "2025-03-27T21:24:52.236572Z"
    }
   },
   "source": [
    "input_size = 784\n",
    "hidden_layers = 2\n",
    "hidden_size = 128\n",
    "output_size = 10\n",
    "learning_rate = 0.001\n",
    "param_1 = 0\n",
    "param_2 = 0\n",
    "batch_size = 128"
   ],
   "outputs": [],
   "execution_count": 3
  },
  {
   "metadata": {
    "ExecuteTime": {
     "end_time": "2025-03-27T21:24:55.078618Z",
     "start_time": "2025-03-27T21:24:52.267408Z"
    }
   },
   "cell_type": "code",
   "source": [
    "# Load MNIST dataset using fetch_openml\n",
    "X, y = fetch_openml('mnist_784', version=1, return_X_y=True, as_frame=False)\n",
    "X = X / 255.0\n",
    "y = y.astype(int)\n",
    "\n",
    "\n",
    "# Split into train and test sets\n",
    "X_train, X_test, y_train, y_test = train_test_split(\n",
    "    X, y, test_size=0.2, random_state=42,\n",
    ")"
   ],
   "id": "64007baf6bf48e8f",
   "outputs": [],
   "execution_count": 4
  },
  {
   "metadata": {
    "ExecuteTime": {
     "end_time": "2025-03-27T21:29:12.699938Z",
     "start_time": "2025-03-27T21:29:12.643955Z"
    }
   },
   "cell_type": "code",
   "source": [
    "ann = ArtificialNeuralNetwork(\n",
    "    123,\n",
    "    Layer(\n",
    "        weight_init=InitializerType.XAVIER,\n",
    "        bias_init=InitializerType.ZERO,\n",
    "        input_size=input_size,\n",
    "        num_neurons=hidden_size,\n",
    "        param_1=param_1,\n",
    "        param_2=param_2,\n",
    "        activation=ActivationFunction.relu,\n",
    "        layer_name=f\"Hidden Layer 0\"\n",
    "    ),\n",
    "    *[Layer(\n",
    "        weight_init=InitializerType.XAVIER,\n",
    "        bias_init=InitializerType.ZERO,\n",
    "        input_size=hidden_size,\n",
    "        num_neurons=hidden_size,\n",
    "        param_1=param_1,\n",
    "        param_2=param_2,\n",
    "        activation=ActivationFunction.relu,\n",
    "        layer_name=f\"Hidden Layer {i + 1}\"\n",
    "    ) for i in range(hidden_layers)],\n",
    "    OutputLayer(\n",
    "        weight_init=InitializerType.XAVIER,\n",
    "        bias_init=InitializerType.ZERO,\n",
    "        input_size=hidden_size,\n",
    "        num_neurons=output_size,\n",
    "        param_1=param_1,\n",
    "        param_2=param_2,\n",
    "        activation=ActivationFunction.softmax,\n",
    "        loss_funct=LossFunction.categorical_cross_entropy,\n",
    "        layer_name=\"Output Layer\"\n",
    "    )\n",
    ")"
   ],
   "id": "43fa17185f77d3b1",
   "outputs": [],
   "execution_count": 14
  },
  {
   "metadata": {
    "ExecuteTime": {
     "end_time": "2025-03-27T21:29:43.728262Z",
     "start_time": "2025-03-27T21:29:18.237378Z"
    }
   },
   "cell_type": "code",
   "source": [
    "ann.train(\n",
    "    x=X_train,\n",
    "    y=y_train,\n",
    "    loss_function=LossFunction.categorical_cross_entropy,\n",
    "    lr=0.01,\n",
    "    epochs=50,\n",
    "    batch_size=batch_size,\n",
    "    shuffle=False,\n",
    "    verbose=True,\n",
    "    validation_data=(X_test, y_test)\n",
    ")"
   ],
   "id": "d450061c5a5c292f",
   "outputs": [
    {
     "name": "stderr",
     "output_type": "stream",
     "text": [
      "Training: 100%|██████████| 50/50 [00:25<00:00,  1.96it/s, Loss: 0.5647, Val Loss: 0.7453]"
     ]
    },
    {
     "name": "stdout",
     "output_type": "stream",
     "text": [
      "Total training time: 23.78s\n"
     ]
    },
    {
     "name": "stderr",
     "output_type": "stream",
     "text": [
      "\n"
     ]
    },
    {
     "data": {
      "text/plain": [
       "([10.615632628077442,\n",
       "  4.551571752513069,\n",
       "  3.253502420811506,\n",
       "  2.7337156003009677,\n",
       "  2.435108478120644,\n",
       "  2.22966427627728,\n",
       "  2.07230022689634,\n",
       "  1.9449042782707275,\n",
       "  1.8375064914748551,\n",
       "  1.7436726627077606,\n",
       "  1.6602617844197118,\n",
       "  1.5853232274117417,\n",
       "  1.5167962621468347,\n",
       "  1.4544230466878347,\n",
       "  1.396985013333428,\n",
       "  1.343964415284714,\n",
       "  1.294825820011939,\n",
       "  1.2487495242077926,\n",
       "  1.2056798580404338,\n",
       "  1.165239446033508,\n",
       "  1.1277121139843245,\n",
       "  1.0923951537633203,\n",
       "  1.0590239644049884,\n",
       "  1.027920310999982,\n",
       "  0.9984632516648828,\n",
       "  0.970453824586029,\n",
       "  0.9442469258013892,\n",
       "  0.9193163884502967,\n",
       "  0.8957468694369858,\n",
       "  0.8733628328880682,\n",
       "  0.8517187102023168,\n",
       "  0.8311725214787908,\n",
       "  0.8114469036567769,\n",
       "  0.7924288596432244,\n",
       "  0.7741655005968429,\n",
       "  0.7567700392559504,\n",
       "  0.7397930822774843,\n",
       "  0.7234088717159748,\n",
       "  0.7077956543742288,\n",
       "  0.6925346378969144,\n",
       "  0.6777895044590379,\n",
       "  0.6636684534465672,\n",
       "  0.6497747035806389,\n",
       "  0.6364423131775493,\n",
       "  0.623403959994853,\n",
       "  0.610935329165525,\n",
       "  0.5988036581831773,\n",
       "  0.5872011782095734,\n",
       "  0.5757416009992599,\n",
       "  0.564748857821933],\n",
       " [5.927260243968514,\n",
       "  3.630987029150884,\n",
       "  2.9107272229567442,\n",
       "  2.5472267915717475,\n",
       "  2.313421315359168,\n",
       "  2.142557043825884,\n",
       "  2.008520159341609,\n",
       "  1.8982702740751953,\n",
       "  1.8039904908306739,\n",
       "  1.721429078712047,\n",
       "  1.648132692795424,\n",
       "  1.5815150210442688,\n",
       "  1.5210628660190741,\n",
       "  1.4668843924755752,\n",
       "  1.4171085000429127,\n",
       "  1.3714396859380626,\n",
       "  1.3293697967080829,\n",
       "  1.2907702599123407,\n",
       "  1.2538530122866143,\n",
       "  1.2200810813298657,\n",
       "  1.1887043407707643,\n",
       "  1.1592435632517288,\n",
       "  1.131845169952886,\n",
       "  1.1064233215558155,\n",
       "  1.0818878465142774,\n",
       "  1.0590982234912054,\n",
       "  1.037551862857352,\n",
       "  1.0174155532268356,\n",
       "  0.9982759770800185,\n",
       "  0.9799048265129193,\n",
       "  0.96209879941136,\n",
       "  0.9457866482450965,\n",
       "  0.9299064593830284,\n",
       "  0.9149220722486002,\n",
       "  0.9004856371665201,\n",
       "  0.8871820686061141,\n",
       "  0.8739715403994189,\n",
       "  0.8614886085843365,\n",
       "  0.8496914578846941,\n",
       "  0.8383265120128482,\n",
       "  0.8271264973700663,\n",
       "  0.8167042619657326,\n",
       "  0.8064592911206642,\n",
       "  0.7965077880051051,\n",
       "  0.7869515402486363,\n",
       "  0.7780542897788338,\n",
       "  0.7694866981858,\n",
       "  0.7610356856937073,\n",
       "  0.7529759736596074,\n",
       "  0.7452602429083971])"
      ]
     },
     "execution_count": 15,
     "metadata": {},
     "output_type": "execute_result"
    }
   ],
   "execution_count": 15
  },
  {
   "metadata": {
    "ExecuteTime": {
     "end_time": "2025-03-27T21:29:49.602430Z",
     "start_time": "2025-03-27T21:29:49.507037Z"
    }
   },
   "cell_type": "code",
   "source": [
    "from sklearn.metrics import f1_score\n",
    "\n",
    "y_pred = ann.predict(X_test)\n",
    "print(f\"F1 Score: {f1_score(y_test, y_pred, average='macro')}\")"
   ],
   "id": "392227228fc2a37f",
   "outputs": [
    {
     "name": "stdout",
     "output_type": "stream",
     "text": [
      "F1 Score: 0.9680068489737372\n"
     ]
    }
   ],
   "execution_count": 16
  },
  {
   "metadata": {
    "ExecuteTime": {
     "end_time": "2025-03-27T21:25:16.862368Z",
     "start_time": "2025-03-27T21:25:16.741999Z"
    }
   },
   "cell_type": "code",
   "source": "ann.save(\"ann_model.pkl\")",
   "id": "33f52e18ff0e9efb",
   "outputs": [
    {
     "name": "stdout",
     "output_type": "stream",
     "text": [
      "Model saved to models/ann_model.pkl\n"
     ]
    }
   ],
   "execution_count": 8
  },
  {
   "metadata": {
    "ExecuteTime": {
     "end_time": "2025-03-27T21:25:16.886341Z",
     "start_time": "2025-03-27T21:25:16.871788Z"
    }
   },
   "cell_type": "code",
   "source": "new_model = ArtificialNeuralNetwork()",
   "id": "251f8cd600bb973e",
   "outputs": [],
   "execution_count": 9
  },
  {
   "cell_type": "code",
   "id": "ccdd8bbc",
   "metadata": {
    "ExecuteTime": {
     "end_time": "2025-03-27T21:25:17.021425Z",
     "start_time": "2025-03-27T21:25:16.891986Z"
    }
   },
   "source": [
    "new_model.load(\"ann_model.pkl\")"
   ],
   "outputs": [
    {
     "name": "stdout",
     "output_type": "stream",
     "text": [
      "Layer Name: Hidden Layer 0\n",
      "None\n",
      "Layer Name: Hidden Layer 1\n",
      "None\n",
      "Layer Name: Hidden Layer 2\n",
      "None\n",
      "Layer Name: Output Layer\n",
      "None\n",
      "Model loaded from models/ann_model.pkl\n"
     ]
    }
   ],
   "execution_count": 10
  },
  {
   "metadata": {
    "ExecuteTime": {
     "end_time": "2025-03-27T21:25:17.078786Z",
     "start_time": "2025-03-27T21:25:17.027519Z"
    }
   },
   "cell_type": "code",
   "source": "new_model.evaluate(X_test, y_test)",
   "id": "80aa99ef865a4376",
   "outputs": [
    {
     "data": {
      "text/plain": [
       "np.float64(0.9662142857142857)"
      ]
     },
     "execution_count": 11,
     "metadata": {},
     "output_type": "execute_result"
    }
   ],
   "execution_count": 11
  },
  {
   "metadata": {
    "ExecuteTime": {
     "end_time": "2025-03-27T21:30:20.956836Z",
     "start_time": "2025-03-27T21:29:55.556817Z"
    }
   },
   "cell_type": "code",
   "source": [
    "# Compare with MLP\n",
    "\n",
    "from sklearn.neural_network import MLPClassifier\n",
    "from sklearn.metrics import accuracy_score\n",
    "\n",
    "\n",
    "# Comparison with scikit-learn MLP (using ReLU instead of PReLU)\n",
    "model = MLPClassifier(\n",
    "    hidden_layer_sizes=(128, 128, 128),\n",
    "    activation='relu',\n",
    "    solver='sgd',\n",
    "    max_iter=50,\n",
    "    batch_size=batch_size,\n",
    "    random_state=123,\n",
    "    verbose=True,\n",
    "    learning_rate_init=0.01,\n",
    "    learning_rate='constant',\n",
    "    tol=0.0\n",
    ")\n",
    "\n",
    "# Train the model\n",
    "model.fit(X_train, y_train)\n",
    "\n",
    "# Make predictions\n",
    "y_pred = model.predict(X_test)\n",
    "\n",
    "# Evaluate the model\n",
    "print(\"F1 Score: \", f1_score(y_test, y_pred, average='macro'))"
   ],
   "id": "1f8431feb19aeef0",
   "outputs": [
    {
     "name": "stdout",
     "output_type": "stream",
     "text": [
      "Iteration 1, loss = 0.50987355\n",
      "Iteration 2, loss = 0.20081164\n",
      "Iteration 3, loss = 0.14448322\n",
      "Iteration 4, loss = 0.11279001\n",
      "Iteration 5, loss = 0.09228397\n",
      "Iteration 6, loss = 0.07737273\n",
      "Iteration 7, loss = 0.06476378\n",
      "Iteration 8, loss = 0.05590762\n",
      "Iteration 9, loss = 0.04750016\n",
      "Iteration 10, loss = 0.04148656\n",
      "Iteration 11, loss = 0.03518707\n",
      "Iteration 12, loss = 0.03031388\n",
      "Iteration 13, loss = 0.02678819\n",
      "Iteration 14, loss = 0.02317245\n",
      "Iteration 15, loss = 0.01956633\n",
      "Iteration 16, loss = 0.01767333\n",
      "Iteration 17, loss = 0.01382902\n",
      "Iteration 18, loss = 0.01283998\n",
      "Iteration 19, loss = 0.01141277\n",
      "Iteration 20, loss = 0.00909595\n",
      "Iteration 21, loss = 0.00749835\n",
      "Iteration 22, loss = 0.00579999\n",
      "Iteration 23, loss = 0.00643335\n",
      "Iteration 24, loss = 0.00454817\n",
      "Iteration 25, loss = 0.00411729\n",
      "Iteration 26, loss = 0.00336292\n",
      "Iteration 27, loss = 0.00311689\n",
      "Iteration 28, loss = 0.00250785\n",
      "Iteration 29, loss = 0.00212413\n",
      "Iteration 30, loss = 0.00184556\n",
      "Iteration 31, loss = 0.00172927\n",
      "Iteration 32, loss = 0.00155103\n",
      "Iteration 33, loss = 0.00144284\n",
      "Iteration 34, loss = 0.00137177\n",
      "Iteration 35, loss = 0.00132356\n",
      "Iteration 36, loss = 0.00118482\n",
      "Iteration 37, loss = 0.00111925\n",
      "Iteration 38, loss = 0.00106560\n",
      "Iteration 39, loss = 0.00102721\n",
      "Iteration 40, loss = 0.00099127\n",
      "Iteration 41, loss = 0.00094894\n",
      "Iteration 42, loss = 0.00091204\n",
      "Iteration 43, loss = 0.00088650\n",
      "Iteration 44, loss = 0.00086479\n",
      "Iteration 45, loss = 0.00083660\n",
      "Iteration 46, loss = 0.00081081\n",
      "Iteration 47, loss = 0.00079190\n",
      "Iteration 48, loss = 0.00077094\n",
      "Iteration 49, loss = 0.00075679\n",
      "Iteration 50, loss = 0.00073796\n",
      "F1 Score:  0.9755196230813551\n"
     ]
    },
    {
     "name": "stderr",
     "output_type": "stream",
     "text": [
      "/Users/mfauzanazhim/Github/Tubess-1-IF3270-PembelajaranMesin/.venv/lib/python3.12/site-packages/sklearn/neural_network/_multilayer_perceptron.py:691: ConvergenceWarning: Stochastic Optimizer: Maximum iterations (50) reached and the optimization hasn't converged yet.\n",
      "  warnings.warn(\n"
     ]
    }
   ],
   "execution_count": 17
  }
 ],
 "metadata": {
  "kernelspec": {
   "display_name": "Python 3",
   "language": "python",
   "name": "python3"
  },
  "language_info": {
   "codemirror_mode": {
    "name": "ipython",
    "version": 3
   },
   "file_extension": ".py",
   "mimetype": "text/x-python",
   "name": "python",
   "nbconvert_exporter": "python",
   "pygments_lexer": "ipython3",
   "version": "3.13.2"
  }
 },
 "nbformat": 4,
 "nbformat_minor": 5
}
