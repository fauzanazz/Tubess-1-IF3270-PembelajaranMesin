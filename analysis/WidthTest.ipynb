{
 "cells": [
  {
   "cell_type": "markdown",
   "id": "8558514b",
   "metadata": {},
   "source": [
    "# Pengujian Terhadap Width"
   ]
  },
  {
   "cell_type": "code",
   "execution_count": 10,
   "id": "6acb4abe",
   "metadata": {},
   "outputs": [
    {
     "name": "stdout",
     "output_type": "stream",
     "text": [
      "The autoreload extension is already loaded. To reload it, use:\n",
      "  %reload_ext autoreload\n"
     ]
    }
   ],
   "source": [
    "%load_ext autoreload\n",
    "%autoreload 2"
   ]
  },
  {
   "cell_type": "code",
   "execution_count": 11,
   "id": "469eadaa",
   "metadata": {},
   "outputs": [],
   "source": [
    "import sys\n",
    "sys.dont_write_bytecode = True\n",
    "sys.dont_write_bytecode = True\n",
    "sys.path.append('..')\n",
    "\n",
    "# Import libraries\n",
    "import numpy as np\n",
    "from sklearn.datasets import fetch_openml\n",
    "from sklearn.model_selection import train_test_split\n",
    "\n",
    "# Import custom modules\n",
    "from ArtificialNeuralNetwork import ArtificialNeuralNetwork\n",
    "from Layer import Layer, OutputLayer, InputLayer\n",
    "from Function import ActivationFunction, LossFunction\n",
    "from enums import InitializerType, RegularizationType\n",
    "import matplotlib.pyplot as plt\n",
    "import pandas as pd"
   ]
  },
  {
   "cell_type": "code",
   "execution_count": 12,
   "id": "4baf3088",
   "metadata": {},
   "outputs": [],
   "source": [
    "input_size = 784\n",
    "hidden_layers = 3\n",
    "hidden_size = 128\n",
    "output_size = 10\n",
    "param_1 = 0\n",
    "param_2 = 0.5\n",
    "batch_size = 64"
   ]
  },
  {
   "cell_type": "code",
   "execution_count": 13,
   "id": "2ef14661",
   "metadata": {},
   "outputs": [],
   "source": [
    "# Load MNIST dataset using fetch_openml\n",
    "X, y = fetch_openml('mnist_784', version=1, return_X_y=True, as_frame=False)\n",
    "X = X / 255.0\n",
    "y = y.astype(int)\n",
    "\n",
    "\n",
    "# Split into train and test sets\n",
    "X_train, X_test, y_train, y_test = train_test_split(\n",
    "    X, y, test_size=0.2, random_state=42,\n",
    ")"
   ]
  },
  {
   "cell_type": "markdown",
   "id": "e9bf5e59",
   "metadata": {},
   "source": [
    "## 1. Width = 64 | Depth = 3"
   ]
  },
  {
   "cell_type": "code",
   "execution_count": 14,
   "id": "cde805c4",
   "metadata": {},
   "outputs": [],
   "source": [
    "ann1 = ArtificialNeuralNetwork(\n",
    "        123,\n",
    "        InputLayer(input_size=input_size),\n",
    "        Layer(\n",
    "            weight_init=InitializerType.HE,\n",
    "            bias_init=InitializerType.ZERO,\n",
    "            input_size=input_size,\n",
    "            num_neurons=64,\n",
    "            param_1=param_1,\n",
    "            param_2=param_2,\n",
    "            activation=ActivationFunction.prelu,\n",
    "            alpha=0.2,\n",
    "            layer_name=f\"Hidden Layer 0\",\n",
    "        ),\n",
    "        *[Layer(\n",
    "            weight_init=InitializerType.HE,\n",
    "            bias_init=InitializerType.ZERO,\n",
    "            input_size=64,\n",
    "            num_neurons=64,\n",
    "            param_1=param_1,\n",
    "            param_2=param_2,\n",
    "            activation=ActivationFunction.prelu,\n",
    "            alpha=0.2,\n",
    "            layer_name=f\"Hidden Layer {_}\",\n",
    "        ) for _ in range(hidden_layers - 1)],\n",
    "        OutputLayer(\n",
    "            weight_init=InitializerType.HE,\n",
    "            bias_init=InitializerType.ZERO,\n",
    "            input_size=64,\n",
    "            num_neurons=output_size,\n",
    "            param_1=param_1,\n",
    "            param_2=param_2,\n",
    "            activation=ActivationFunction.softmax,\n",
    "            loss_funct=LossFunction.categorical_cross_entropy,\n",
    "            layer_name=\"Output Layer\"\n",
    "        )\n",
    "    )"
   ]
  },
  {
   "cell_type": "code",
   "execution_count": 15,
   "id": "b9abaac1",
   "metadata": {},
   "outputs": [
    {
     "name": "stderr",
     "output_type": "stream",
     "text": [
      "Training: 100%|██████████| 500/500 [12:17<00:00,  1.47s/it, Loss: 0.0033, Val Loss: 0.5033]"
     ]
    },
    {
     "name": "stdout",
     "output_type": "stream",
     "text": [
      "Total training time: 691.83s\n"
     ]
    },
    {
     "name": "stderr",
     "output_type": "stream",
     "text": [
      "\n"
     ]
    },
    {
     "data": {
      "image/png": "[encoded data removed]",
      "text/plain": [
       "<Figure size 640x480 with 1 Axes>"
      ]
     },
     "metadata": {},
     "output_type": "display_data"
    }
   ],
   "source": [
    "loss1 = ann1.train(\n",
    "    x=X_train,\n",
    "    y=y_train,\n",
    "    loss_function=LossFunction.categorical_cross_entropy,\n",
    "    lr=0.01,\n",
    "    epochs=500,\n",
    "    batch_size=batch_size,\n",
    "    verbose=True,\n",
    "    validation_data=(X_test, y_test),\n",
    ")\n",
    "\n",
    "epoch_losses1, val_losses1 = loss1\n",
    "\n",
    "plt.plot(epoch_losses1, label='Train Loss')\n",
    "plt.plot(val_losses1, label='Validation Loss')\n",
    "plt.xlabel('Epochs')\n",
    "plt.ylabel('Loss')\n",
    "plt.title('Training and Validation Loss')\n",
    "plt.legend()\n",
    "plt.show()"
   ]
  },
  {
   "cell_type": "code",
   "execution_count": 16,
   "id": "c06c30a2",
   "metadata": {},
   "outputs": [
    {
     "name": "stdout",
     "output_type": "stream",
     "text": [
      "F1 Score: 0.9698560420453983\n"
     ]
    }
   ],
   "source": [
    "from sklearn.metrics import f1_score\n",
    "\n",
    "y_pred1 = ann1.predict(X_test)\n",
    "print(f\"F1 Score: {f1_score(y_test, y_pred1, average='macro')}\")"
   ]
  },
  {
   "cell_type": "markdown",
   "id": "b2e39399",
   "metadata": {},
   "source": [
    "## 2. Width = 128 | Depth = 3"
   ]
  },
  {
   "cell_type": "code",
   "execution_count": 17,
   "id": "3835ce96",
   "metadata": {},
   "outputs": [],
   "source": [
    "ann2 = ArtificialNeuralNetwork(\n",
    "        123,\n",
    "        InputLayer(input_size=input_size),\n",
    "        Layer(\n",
    "            weight_init=InitializerType.HE,\n",
    "            bias_init=InitializerType.ZERO,\n",
    "            input_size=input_size,\n",
    "            num_neurons=128,\n",
    "            param_1=param_1,\n",
    "            param_2=param_2,\n",
    "            activation=ActivationFunction.prelu,\n",
    "            alpha=0.2,\n",
    "            layer_name=f\"Hidden Layer 0\",\n",
    "        ),\n",
    "        *[Layer(\n",
    "            weight_init=InitializerType.HE,\n",
    "            bias_init=InitializerType.ZERO,\n",
    "            input_size=128,\n",
    "            num_neurons=128,\n",
    "            param_1=param_1,\n",
    "            param_2=param_2,\n",
    "            activation=ActivationFunction.prelu,\n",
    "            alpha=0.2,\n",
    "            layer_name=f\"Hidden Layer {_}\",\n",
    "        ) for _ in range(hidden_layers - 1)],\n",
    "        OutputLayer(\n",
    "            weight_init=InitializerType.HE,\n",
    "            bias_init=InitializerType.ZERO,\n",
    "            input_size=128,\n",
    "            num_neurons=output_size,\n",
    "            param_1=param_1,\n",
    "            param_2=param_2,\n",
    "            activation=ActivationFunction.softmax,\n",
    "            loss_funct=LossFunction.categorical_cross_entropy,\n",
    "            layer_name=\"Output Layer\"\n",
    "        )\n",
    "    )"
   ]
  },
  {
   "cell_type": "code",
   "execution_count": 18,
   "id": "8a29fd5c",
   "metadata": {},
   "outputs": [
    {
     "name": "stderr",
     "output_type": "stream",
     "text": [
      "Training: 100%|██████████| 500/500 [3:06:48<00:00, 22.42s/it, Loss: 0.0028, Val Loss: 0.4314]      \n"
     ]
    },
    {
     "name": "stdout",
     "output_type": "stream",
     "text": [
      "Total training time: 11058.01s\n"
     ]
    },
    {
     "data": {
      "image/png": "[encoded data removed]",
      "text/plain": [
       "<Figure size 640x480 with 1 Axes>"
      ]
     },
     "metadata": {},
     "output_type": "display_data"
    }
   ],
   "source": [
    "loss2 = ann2.train(\n",
    "    x=X_train,\n",
    "    y=y_train,\n",
    "    loss_function=LossFunction.categorical_cross_entropy,\n",
    "    lr=0.01,\n",
    "    epochs=500,\n",
    "    batch_size=batch_size,\n",
    "    verbose=True,\n",
    "    validation_data=(X_test, y_test),\n",
    ")\n",
    "\n",
    "epoch_losses2, val_losses2 = loss2\n",
    "\n",
    "plt.plot(epoch_losses2, label='Train Loss')\n",
    "plt.plot(val_losses2, label='Validation Loss')\n",
    "plt.xlabel('Epochs')\n",
    "plt.ylabel('Loss')\n",
    "plt.title('Training and Validation Loss')\n",
    "plt.legend()\n",
    "plt.show()"
   ]
  },
  {
   "cell_type": "code",
   "execution_count": 19,
   "id": "a18c7081",
   "metadata": {},
   "outputs": [
    {
     "name": "stdout",
     "output_type": "stream",
     "text": [
      "F1 Score: 0.9743308237271447\n"
     ]
    }
   ],
   "source": [
    "from sklearn.metrics import f1_score\n",
    "\n",
    "y_pred2 = ann2.predict(X_test)\n",
    "print(f\"F1 Score: {f1_score(y_test, y_pred2, average='macro')}\")"
   ]
  },
  {
   "cell_type": "markdown",
   "id": "7432e606",
   "metadata": {},
   "source": [
    "## 3. Width = 256 | Depth = 3"
   ]
  },
  {
   "cell_type": "code",
   "execution_count": 20,
   "id": "549c995f",
   "metadata": {},
   "outputs": [],
   "source": [
    "ann3 = ArtificialNeuralNetwork(\n",
    "        123,\n",
    "        InputLayer(input_size=input_size),\n",
    "        Layer(\n",
    "            weight_init=InitializerType.HE,\n",
    "            bias_init=InitializerType.ZERO,\n",
    "            input_size=input_size,\n",
    "            num_neurons=256,\n",
    "            param_1=param_1,\n",
    "            param_2=param_2,\n",
    "            activation=ActivationFunction.prelu,\n",
    "            alpha=0.2,\n",
    "            layer_name=f\"Hidden Layer 0\",\n",
    "        ),\n",
    "        *[Layer(\n",
    "            weight_init=InitializerType.HE,\n",
    "            bias_init=InitializerType.ZERO,\n",
    "            input_size=256,\n",
    "            num_neurons=256,\n",
    "            param_1=param_1,\n",
    "            param_2=param_2,\n",
    "            activation=ActivationFunction.prelu,\n",
    "            alpha=0.2,\n",
    "            layer_name=f\"Hidden Layer {_}\",\n",
    "        ) for _ in range(hidden_layers - 1)],\n",
    "        OutputLayer(\n",
    "            weight_init=InitializerType.HE,\n",
    "            bias_init=InitializerType.ZERO,\n",
    "            input_size=256,\n",
    "            num_neurons=output_size,\n",
    "            param_1=param_1,\n",
    "            param_2=param_2,\n",
    "            activation=ActivationFunction.softmax,\n",
    "            loss_funct=LossFunction.categorical_cross_entropy,\n",
    "            layer_name=\"Output Layer\"\n",
    "        )\n",
    "    )"
   ]
  },
  {
   "cell_type": "code",
   "execution_count": 21,
   "id": "05de115c",
   "metadata": {},
   "outputs": [
    {
     "name": "stderr",
     "output_type": "stream",
     "text": [
      "Training: 100%|██████████| 500/500 [2:03:03<00:00, 14.77s/it, Loss: 0.0024, Val Loss: 0.4191]    \n"
     ]
    },
    {
     "name": "stdout",
     "output_type": "stream",
     "text": [
      "Total training time: 7116.64s\n"
     ]
    },
    {
     "data": {
      "image/png": "[encoded data removed]",
      "text/plain": [
       "<Figure size 640x480 with 1 Axes>"
      ]
     },
     "metadata": {},
     "output_type": "display_data"
    }
   ],
   "source": [
    "loss3 = ann3.train(\n",
    "    x=X_train,\n",
    "    y=y_train,\n",
    "    loss_function=LossFunction.categorical_cross_entropy,\n",
    "    lr=0.01,\n",
    "    epochs=500,\n",
    "    batch_size=batch_size,\n",
    "    verbose=True,\n",
    "    validation_data=(X_test, y_test),\n",
    ")\n",
    "\n",
    "epoch_losses3, val_losses3 = loss3\n",
    "\n",
    "plt.plot(epoch_losses3, label='Train Loss')\n",
    "plt.plot(val_losses3, label='Validation Loss')\n",
    "plt.xlabel('Epochs')\n",
    "plt.ylabel('Loss')\n",
    "plt.title('Training and Validation Loss')\n",
    "plt.legend()\n",
    "plt.show()"
   ]
  },
  {
   "cell_type": "code",
   "execution_count": 22,
   "id": "47583f2c",
   "metadata": {},
   "outputs": [
    {
     "name": "stdout",
     "output_type": "stream",
     "text": [
      "F1 Score: 0.9754137606912996\n"
     ]
    }
   ],
   "source": [
    "from sklearn.metrics import f1_score\n",
    "\n",
    "y_pred3 = ann3.predict(X_test)\n",
    "print(f\"F1 Score: {f1_score(y_test, y_pred3, average='macro')}\")"
   ]
  }
 ],
 "metadata": {
  "kernelspec": {
   "display_name": ".venv",
   "language": "python",
   "name": "python3"
  },
  "language_info": {
   "codemirror_mode": {
    "name": "ipython",
    "version": 3
   },
   "file_extension": ".py",
   "mimetype": "text/x-python",
   "name": "python",
   "nbconvert_exporter": "python",
   "pygments_lexer": "ipython3",
   "version": "3.12.0"
  }
 },
 "nbformat": 4,
 "nbformat_minor": 5
}
